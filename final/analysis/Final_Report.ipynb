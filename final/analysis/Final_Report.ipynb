{
 "cells": [
  {
   "cell_type": "markdown",
   "metadata": {
    "id": "MiMZMZYYpFA9"
   },
   "source": [
    "# Final Report"
   ]
  },
  {
   "cell_type": "markdown",
   "metadata": {
    "id": "hZZESMLfqCMX"
   },
   "source": []
  },
  {
   "cell_type": "markdown",
   "metadata": {
    "id": "zd11uFJxp8Dd"
   },
   "source": [
    "## 1. Executive Summary"
   ]
  },
  {
   "cell_type": "markdown",
   "metadata": {
    "id": "ri2fXIvFp8GH"
   },
   "source": [
    "## 2. Aim and Background"
   ]
  },
  {
   "cell_type": "markdown",
   "metadata": {
    "id": "UYqcpOKnp8Ig"
   },
   "source": [
    "### 2.1. Problem"
   ]
  },
  {
   "cell_type": "markdown",
   "metadata": {
    "id": "uZzWojd-rBmf"
   },
   "source": [
    "### 2.2. Aim"
   ]
  },
  {
   "cell_type": "markdown",
   "metadata": {
    "id": "hGFpT0m-rBxy"
   },
   "source": [
    "## 3. Methods\n"
   ]
  },
  {
   "cell_type": "markdown",
   "metadata": {
    "id": "HwcexQTIrB52"
   },
   "source": [
    "### 3.1. Data Collection"
   ]
  },
  {
   "cell_type": "code",
   "execution_count": 139,
   "metadata": {
    "id": "l7Bv-0EM83z5"
   },
   "outputs": [],
   "source": [
    "import time\n",
    "import math\n",
    "import numpy as np\n",
    "import pandas as pd\n",
    "import matplotlib.pyplot as plt\n",
    "import tensorflow as tf\n",
    "from scipy import signal\n",
    "import seaborn as sns"
   ]
  },
  {
   "cell_type": "code",
   "execution_count": 140,
   "metadata": {},
   "outputs": [],
   "source": [
    "# CONFIG\n",
    "\n",
    "EVENT_ID_MAP = {\n",
    "    None: 0,\n",
    "    \"L\": 1,\n",
    "    \"R\": 2,\n",
    "    \"S\": 3,\n",
    "}\n",
    "EVENT_ID_LETTER_MAP = {EVENT_ID_MAP[i]:i for i in EVENT_ID_MAP}\n",
    "\n",
    "EVENT_COLOR_MAP = {\n",
    "    None: \"black\",\n",
    "    \"L\": \"red\",\n",
    "    \"R\": \"blue\",\n",
    "    \"S\": \"green\",\n",
    "}\n",
    "\n",
    "EVENT_ID_NAME_MAP = {\n",
    "    0: \"Nothing\",\n",
    "    1: \"Left Wink\",\n",
    "    2: \"Right Wink\",\n",
    "    3: \"Dbl Blink\",\n",
    "}\n",
    "\n",
    "BRAINBOX_SAMPLE_RATE = 10000\n",
    "\n",
    "DOWNSAMPLE_RATE = 100\n",
    "\n",
    "FILTER_DATA = True\n",
    "FILTER_CUTOFF = 7\n",
    "\n",
    "NORMALISE_DATA = True\n",
    "\n",
    "EVENT_LENGTH = 2 # length of a given event sequence in seconds\n",
    "EVENT_SAMPLE_COUNT = int(EVENT_LENGTH * BRAINBOX_SAMPLE_RATE / DOWNSAMPLE_RATE) # size of event in samples\n",
    "\n",
    "EVENT_START = -0.75\n",
    "EVENT_START_OFFSET = int(EVENT_START * BRAINBOX_SAMPLE_RATE / DOWNSAMPLE_RATE)\n",
    "\n",
    "EVENT_END = -0.25\n",
    "EVENT_END_OFFSET = int(EVENT_END * BRAINBOX_SAMPLE_RATE / DOWNSAMPLE_RATE)\n",
    "\n",
    "INPUT_SHAPE = (EVENT_SAMPLE_COUNT,)\n",
    "OUTPUT_SHAPE = len(EVENT_ID_MAP)  # number of categories (including None)\n",
    "\n",
    "EVENTS_PATH = \"../src/data_collection/data/events/\"\n",
    "SAMPLES_PATH = \"../src/data_collection/data/waves/\"\n",
    "\n",
    "FILE_NAMES_ALL = [\n",
    "    \"DATA_2022-05-13_Josh_0001_3_1652400625\",\n",
    "    \"DATA_2022-05-13_Josh_0001_3_1652400939\",\n",
    "    \"DATA_2022-05-13_Josh_0001_4_1652401267\",\n",
    "    \"DATA_2022-05-13_Josh_0001_4_1652401740\",\n",
    "    \"DATA_2022-05-13_Josh_0001_5_1652405337\",\n",
    "    \"DATA_2022-05-13_Josh_0001_5_1652405637\",\n",
    "    \"DATA_2022-05-13_Josh_0001_6_1652406023\",\n",
    "    \"DATA_2022-05-13_Josh_0001_6_1652406202\",\n",
    "    \"DATA_2022-05-13_Josh_0001_7_1652406589\",\n",
    "    \"DATA_2022-05-13_Josh_0001_7_1652406788\",\n",
    "    \"DATA_2022-05-13_Josh_0001_8_1652407331\",\n",
    "    \"DATA_2022-05-13_Josh_0001_8_1652407508\",\n",
    "]"
   ]
  },
  {
   "cell_type": "code",
   "execution_count": 141,
   "metadata": {},
   "outputs": [],
   "source": [
    "def load_sample_data(file_path:str):\n",
    "    samples_df = pd.read_csv(\n",
    "        f\"{file_path}.csv\",\n",
    "    )\n",
    "\n",
    "    # Sort because some samples are not written in order\n",
    "    samples_df = samples_df.sort_values(\"time_sec\", ascending=True)\n",
    "    samples_df.reset_index(drop=True, inplace=True)\n",
    "\n",
    "    return samples_df"
   ]
  },
  {
   "cell_type": "code",
   "execution_count": 142,
   "metadata": {},
   "outputs": [],
   "source": [
    "def load_event_data(file_path:str, event_id_map:dict, event_color_map:dict):\n",
    "    \"\"\" Reads brainbox event data into a data frame \"\"\"\n",
    "\n",
    "    events_df = pd.read_csv(\n",
    "        f\"{file_path}.csv\",\n",
    "        names=[\"time_sec\", \"event_letter\", \"event_name\"],\n",
    "        header=0,\n",
    "    )\n",
    "\n",
    "    events_df[\"event_id\"] = events_df[\"event_letter\"].map(event_id_map)\n",
    "    events_df[\"event_color\"] = events_df[\"event_letter\"].map(event_color_map)\n",
    "\n",
    "    return events_df"
   ]
  },
  {
   "cell_type": "code",
   "execution_count": 143,
   "metadata": {},
   "outputs": [],
   "source": [
    "def merge_samples_events(\n",
    "    samples_df,\n",
    "    events_df,\n",
    "    event_start:float,\n",
    "    event_end:float,\n",
    "    event_id_map:dict,\n",
    "    event_color_map:dict,\n",
    "):\n",
    "    \"\"\"\n",
    "    Merges the sample and event dataframes.\n",
    "\n",
    "    Events will be assigned to individual samples within a specified time range around the market.\n",
    "    \"\"\"\n",
    "    # Add target classification event to each sample\n",
    "    merge_df = samples_df.copy()\n",
    "\n",
    "    # Default is None (no event)\n",
    "    merge_df[\"event_letter\"] = None\n",
    "    merge_df[\"event_name\"] = \"Nothing\"\n",
    "    merge_df[\"event_id\"] = event_id_map[None]\n",
    "    merge_df[\"event_color\"] = event_color_map[None]\n",
    "    #print(sample_100_df)\n",
    "\n",
    "    # Assign all events within range around their event marker\n",
    "    for idx,row in events_df.iterrows():\n",
    "        # Skip blinks for now\n",
    "        # if row[\"event_type\"] not in [\"Left\", \"Right\"]:\n",
    "        #     continue\n",
    "\n",
    "        event_interval = (merge_df[\"time_sec\"] > (row[\"time_sec\"] + event_start))\n",
    "        event_interval &= (merge_df[\"time_sec\"] < (row[\"time_sec\"] + event_end))\n",
    "        \n",
    "        merge_df.loc[event_interval,\"event_id\"] = row[\"event_id\"]\n",
    "        merge_df.loc[event_interval,\"event_name\"] = row[\"event_name\"]\n",
    "        merge_df.loc[event_interval,\"event_color\"] = row[\"event_color\"]\n",
    "\n",
    "    return merge_df"
   ]
  },
  {
   "cell_type": "markdown",
   "metadata": {
    "id": "gvrrURLQpFDk"
   },
   "source": [
    "### 3.2. Data Preprocessing"
   ]
  },
  {
   "cell_type": "markdown",
   "metadata": {},
   "source": [
    "#### 3.2.1. Downsampling"
   ]
  },
  {
   "cell_type": "code",
   "execution_count": 144,
   "metadata": {},
   "outputs": [],
   "source": [
    "def data_downsample(sample_df, n=100):\n",
    "    \"\"\"\n",
    "    Downsamples the wave data (not events) to 1/nth of a second by taking mean sample over that period.\n",
    "    \"\"\"\n",
    "    # Crop size to allow downsampling\n",
    "    sample_df = sample_df[:len(sample_df) - (len(sample_df)%n)]\n",
    "    \n",
    "    return pd.DataFrame({\n",
    "        \"time_sec\": np.min(np.array(sample_df[\"time_sec\"]).reshape(-1,n), 1),\n",
    "        \"sample\": np.mean(np.array(sample_df[\"sample\"]).reshape(-1,n), 1),\n",
    "    })"
   ]
  },
  {
   "cell_type": "markdown",
   "metadata": {},
   "source": [
    "#### 3.2.2. Data Segmentation"
   ]
  },
  {
   "cell_type": "code",
   "execution_count": 145,
   "metadata": {},
   "outputs": [],
   "source": [
    "def data_segmentation(merge_df, event_sample_count:int, filter_data:bool):\n",
    "    \"\"\"\n",
    "    Returns a list of each time series sequence labelled by the event.\n",
    "    \"\"\"\n",
    "    print(\"Transforming data into individual segments...\")\n",
    "\n",
    "    seqs = []\n",
    "    labels = []\n",
    "\n",
    "    for idx,row in merge_df[:-event_sample_count].iterrows():\n",
    "        label = row[\"event_id\"]\n",
    "        if label is None:\n",
    "            label = -1\n",
    "        labels.append(label)\n",
    "\n",
    "        seq = list(merge_df[\"sample\"][idx:idx+event_sample_count])\n",
    "        seqs.append(seq)\n",
    "\n",
    "    seqs = np.array(seqs)\n",
    "    labels = np.array(labels)\n",
    "\n",
    "    print(f\"Transformed into {seqs.shape[0]} segments of size {seqs.shape[1]}\")\n",
    "    \n",
    "    return (seqs, labels)"
   ]
  },
  {
   "cell_type": "markdown",
   "metadata": {},
   "source": [
    "#### 3.2.3. Filter"
   ]
  },
  {
   "cell_type": "code",
   "execution_count": 146,
   "metadata": {},
   "outputs": [],
   "source": [
    "# Butterworth filter\n",
    "def data_filter(rawData, order:int=5, cutOff:int=7, Fs:int=10000):\n",
    "    \"\"\"\n",
    "    Low pass\n",
    "    cutOff in Hz\n",
    "    \"\"\"\n",
    "    b, a = signal.butter(order, Wn=cutOff/(Fs/2)) \n",
    "    # Zero Phase double filter\n",
    "    filteredSignal = signal.filtfilt(b, a, rawData)\n",
    "    return filteredSignal"
   ]
  },
  {
   "cell_type": "markdown",
   "metadata": {},
   "source": [
    "#### 3.2.4. Normalising"
   ]
  },
  {
   "cell_type": "code",
   "execution_count": 147,
   "metadata": {},
   "outputs": [],
   "source": [
    "def data_normalise(data):\n",
    "    return (data - data.mean()) / data.std()"
   ]
  },
  {
   "cell_type": "code",
   "execution_count": null,
   "metadata": {},
   "outputs": [],
   "source": []
  },
  {
   "cell_type": "code",
   "execution_count": 148,
   "metadata": {},
   "outputs": [
    {
     "name": "stdout",
     "output_type": "stream",
     "text": [
      "Data Preprocessing\n",
      "\n",
      "Loading sample file 'DATA_2022-05-13_Josh_0001_3_1652400625'\n",
      "Loaded 1924764 samples\n",
      "Downsampling @ n=100\n",
      "Downsampled to 19247 samples\n",
      "Loading event file 'DATA_2022-05-13_Josh_0001_3_1652400625'\n",
      "Loaded 52 events\n",
      "Merging samples and events\n",
      "Transforming data into individual segments...\n",
      "Transformed into 19047 segments of size 200\n",
      "Loaded and preprocessed file data in 6.04s\n",
      "\n",
      "Loading sample file 'DATA_2022-05-13_Josh_0001_3_1652400939'\n",
      "Loaded 1675296 samples\n",
      "Downsampling @ n=100\n",
      "Downsampled to 16752 samples\n",
      "Loading event file 'DATA_2022-05-13_Josh_0001_3_1652400939'\n",
      "Loaded 42 events\n",
      "Merging samples and events\n",
      "Transforming data into individual segments...\n",
      "Transformed into 16552 segments of size 200\n",
      "Loaded and preprocessed file data in 5.18s\n",
      "\n",
      "Loading sample file 'DATA_2022-05-13_Josh_0001_4_1652401267'\n",
      "Loaded 2180967 samples\n",
      "Downsampling @ n=100\n",
      "Downsampled to 21809 samples\n",
      "Loading event file 'DATA_2022-05-13_Josh_0001_4_1652401267'\n",
      "Loaded 53 events\n",
      "Merging samples and events\n",
      "Transforming data into individual segments...\n",
      "Transformed into 21609 segments of size 200\n",
      "Loaded and preprocessed file data in 6.75s\n",
      "\n",
      "Loading sample file 'DATA_2022-05-13_Josh_0001_4_1652401740'\n",
      "Loaded 1735168 samples\n",
      "Downsampling @ n=100\n",
      "Downsampled to 17351 samples\n",
      "Loading event file 'DATA_2022-05-13_Josh_0001_4_1652401740'\n",
      "Loaded 43 events\n",
      "Merging samples and events\n",
      "Transforming data into individual segments...\n",
      "Transformed into 17151 segments of size 200\n",
      "Loaded and preprocessed file data in 5.41s\n",
      "\n",
      "Loading sample file 'DATA_2022-05-13_Josh_0001_5_1652405337'\n",
      "Loaded 2466785 samples\n",
      "Downsampling @ n=100\n",
      "Downsampled to 24667 samples\n",
      "Loading event file 'DATA_2022-05-13_Josh_0001_5_1652405337'\n",
      "Loaded 63 events\n",
      "Merging samples and events\n",
      "Transforming data into individual segments...\n",
      "Transformed into 24467 segments of size 200\n",
      "Loaded and preprocessed file data in 7.62s\n",
      "\n",
      "Loading sample file 'DATA_2022-05-13_Josh_0001_5_1652405637'\n",
      "Loaded 2199205 samples\n",
      "Downsampling @ n=100\n",
      "Downsampled to 21992 samples\n",
      "Loading event file 'DATA_2022-05-13_Josh_0001_5_1652405637'\n",
      "Loaded 55 events\n",
      "Merging samples and events\n",
      "Transforming data into individual segments...\n",
      "Transformed into 21792 segments of size 200\n",
      "Loaded and preprocessed file data in 7.16s\n",
      "\n",
      "Loading sample file 'DATA_2022-05-13_Josh_0001_6_1652406023'\n",
      "Loaded 1556266 samples\n",
      "Downsampling @ n=100\n",
      "Downsampled to 15562 samples\n",
      "Loading event file 'DATA_2022-05-13_Josh_0001_6_1652406023'\n",
      "Loaded 47 events\n",
      "Merging samples and events\n",
      "Transforming data into individual segments...\n",
      "Transformed into 15362 segments of size 200\n",
      "Loaded and preprocessed file data in 5.36s\n",
      "\n",
      "Loading sample file 'DATA_2022-05-13_Josh_0001_6_1652406202'\n",
      "Loaded 1908073 samples\n",
      "Downsampling @ n=100\n",
      "Downsampled to 19080 samples\n",
      "Loading event file 'DATA_2022-05-13_Josh_0001_6_1652406202'\n",
      "Loaded 49 events\n",
      "Merging samples and events\n",
      "Transforming data into individual segments...\n",
      "Transformed into 18880 segments of size 200\n",
      "Loaded and preprocessed file data in 6.10s\n",
      "\n",
      "Loading sample file 'DATA_2022-05-13_Josh_0001_7_1652406589'\n",
      "Loaded 1845822 samples\n",
      "Downsampling @ n=100\n",
      "Downsampled to 18458 samples\n",
      "Loading event file 'DATA_2022-05-13_Josh_0001_7_1652406589'\n",
      "Loaded 52 events\n",
      "Merging samples and events\n",
      "Transforming data into individual segments...\n",
      "Transformed into 18258 segments of size 200\n",
      "Loaded and preprocessed file data in 6.03s\n",
      "\n",
      "Loading sample file 'DATA_2022-05-13_Josh_0001_7_1652406788'\n",
      "Loaded 1777667 samples\n",
      "Downsampling @ n=100\n",
      "Downsampled to 17776 samples\n",
      "Loading event file 'DATA_2022-05-13_Josh_0001_7_1652406788'\n",
      "Loaded 50 events\n",
      "Merging samples and events\n",
      "Transforming data into individual segments...\n",
      "Transformed into 17576 segments of size 200\n",
      "Loaded and preprocessed file data in 5.70s\n",
      "\n",
      "Loading sample file 'DATA_2022-05-13_Josh_0001_8_1652407331'\n",
      "Loaded 1531229 samples\n",
      "Downsampling @ n=100\n",
      "Downsampled to 15312 samples\n",
      "Loading event file 'DATA_2022-05-13_Josh_0001_8_1652407331'\n",
      "Loaded 40 events\n",
      "Merging samples and events\n",
      "Transforming data into individual segments...\n",
      "Transformed into 15112 segments of size 200\n",
      "Loaded and preprocessed file data in 4.85s\n",
      "\n",
      "Loading sample file 'DATA_2022-05-13_Josh_0001_8_1652407508'\n",
      "Loaded 1680859 samples\n",
      "Downsampling @ n=100\n",
      "Downsampled to 16808 samples\n",
      "Loading event file 'DATA_2022-05-13_Josh_0001_8_1652407508'\n",
      "Loaded 44 events\n",
      "Merging samples and events\n",
      "Transforming data into individual segments...\n",
      "Transformed into 16608 segments of size 200\n",
      "Loaded and preprocessed file data in 5.47s\n",
      "\n",
      "Finished data preprocessing\n"
     ]
    }
   ],
   "source": [
    "print(\"Data Preprocessing\\n\")\n",
    "files_data_all = []\n",
    "files_labels_all = []\n",
    "\n",
    "for file_name in FILE_NAMES_ALL:\n",
    "    start_time = time.time()\n",
    "\n",
    "    print(f\"Loading sample file '{file_name}'\")\n",
    "    samples_df = load_sample_data(SAMPLES_PATH + file_name)\n",
    "    print(f\"Loaded {len(samples_df)} samples\")\n",
    "    \n",
    "    print(f\"Downsampling @ n={DOWNSAMPLE_RATE}\")\n",
    "    samples_df = data_downsample(samples_df, n=DOWNSAMPLE_RATE)\n",
    "    print(f\"Downsampled to {len(samples_df)} samples\")\n",
    "\n",
    "    print(f\"Loading event file '{file_name}'\")\n",
    "    events_df = load_event_data(\n",
    "        file_path = EVENTS_PATH + file_name,\n",
    "        event_id_map = EVENT_ID_MAP,\n",
    "        event_color_map = EVENT_COLOR_MAP,\n",
    "    )\n",
    "    print(f\"Loaded {len(events_df)} events\")\n",
    "\n",
    "    print(f\"Merging samples and events\")\n",
    "    merge_df = merge_samples_events(\n",
    "        samples_df, events_df,\n",
    "        event_start = EVENT_START,\n",
    "        event_end = EVENT_END,\n",
    "        event_id_map = EVENT_ID_MAP,\n",
    "        event_color_map = EVENT_COLOR_MAP,\n",
    "    )\n",
    "#     print(\"Merge complete\")\n",
    "\n",
    "    # Segment data for ML model input\n",
    "    seq_data, seq_labels = data_segmentation(\n",
    "        merge_df,\n",
    "        event_sample_count=EVENT_SAMPLE_COUNT,\n",
    "        filter_data=FILTER_DATA,\n",
    "    )\n",
    "\n",
    "    # Apply filters before we do the normalisation\n",
    "    # One reason is that mains 50Hz will increase std for that sample\n",
    "    if FILTER_DATA:\n",
    "        for i,seq in enumerate(seq_data):\n",
    "            seq_data[i] = data_filter(seq, cutOff=FILTER_CUTOFF, Fs=100) # Account for downsampling\n",
    "\n",
    "    # Normalise relative to the 2 second interval\n",
    "    # Note that this method will scale non-actions to have large magnitudes\n",
    "    if NORMALISE_DATA:\n",
    "        for i,seq in enumerate(seq_data):\n",
    "            seq_data[i] = data_normalise(seq)\n",
    "\n",
    "    files_data_all.append(seq_data)\n",
    "    files_labels_all.append(seq_labels)\n",
    "\n",
    "    print(f\"Loaded and preprocessed file data in {time.time()-start_time:.2f}s\")\n",
    "    print(\"\")\n",
    "    \n",
    "print(\"Finished data preprocessing\")"
   ]
  },
  {
   "cell_type": "code",
   "execution_count": null,
   "metadata": {},
   "outputs": [],
   "source": []
  },
  {
   "cell_type": "code",
   "execution_count": null,
   "metadata": {},
   "outputs": [],
   "source": []
  },
  {
   "cell_type": "code",
   "execution_count": null,
   "metadata": {},
   "outputs": [],
   "source": []
  },
  {
   "cell_type": "markdown",
   "metadata": {
    "id": "2RNgpn2dpFGW"
   },
   "source": [
    "### 3.3. Models"
   ]
  },
  {
   "cell_type": "code",
   "execution_count": 149,
   "metadata": {},
   "outputs": [
    {
     "name": "stdout",
     "output_type": "stream",
     "text": [
      "Model: \"sequential_28\"\n",
      "_________________________________________________________________\n",
      " Layer (type)                Output Shape              Param #   \n",
      "=================================================================\n",
      " flatten_28 (Flatten)        (None, 200)               0         \n",
      "                                                                 \n",
      " dropout_28 (Dropout)        (None, 200)               0         \n",
      "                                                                 \n",
      " dense_84 (Dense)            (None, 64)                12864     \n",
      "                                                                 \n",
      " dense_85 (Dense)            (None, 16)                1040      \n",
      "                                                                 \n",
      " dense_86 (Dense)            (None, 4)                 68        \n",
      "                                                                 \n",
      "=================================================================\n",
      "Total params: 13,972\n",
      "Trainable params: 13,972\n",
      "Non-trainable params: 0\n",
      "_________________________________________________________________\n"
     ]
    }
   ],
   "source": [
    "import tensorflow as tf\n",
    "\n",
    "def get_model_ann():\n",
    "    model = tf.keras.Sequential([\n",
    "        tf.keras.layers.Flatten(input_shape=INPUT_SHAPE),\n",
    "        tf.keras.layers.Dropout(.50, input_shape=INPUT_SHAPE),\n",
    "        tf.keras.layers.Dense(64, activation='relu'),\n",
    "        tf.keras.layers.Dense(16, activation='relu'),\n",
    "        tf.keras.layers.Dense(OUTPUT_SHAPE)\n",
    "    ])\n",
    "    return model\n",
    "get_model_ann().summary()"
   ]
  },
  {
   "cell_type": "markdown",
   "metadata": {},
   "source": [
    "#### 3.3.2. SVM"
   ]
  },
  {
   "cell_type": "code",
   "execution_count": 150,
   "metadata": {},
   "outputs": [],
   "source": [
    "from sklearn import svm\n",
    "\n",
    "def get_model_svm():\n",
    "    clf = svm.SVC()\n",
    "    return clf"
   ]
  },
  {
   "cell_type": "markdown",
   "metadata": {},
   "source": [
    "#### 3.3.3 Random Forest"
   ]
  },
  {
   "cell_type": "code",
   "execution_count": 151,
   "metadata": {},
   "outputs": [],
   "source": [
    "from xgboost import XGBRFClassifier\n",
    "\n",
    "# Hyper-Parameters\n",
    "RF_N_TREES = [10,50,100,500,1000,5000]\n",
    "RF_N_FEATURES = [x for x in np.arange(0.1, 1.1, 0.1)]\n",
    "\n",
    "def get_model_rf(num_trees=50, num_features=0.1):\n",
    "    return XGBRFClassifier(\n",
    "        n_estimators=num_trees,\n",
    "        subsample=0.9,\n",
    "        colsample_bynode=num_features\n",
    "    )"
   ]
  },
  {
   "cell_type": "markdown",
   "metadata": {
    "id": "SGYMbnF6pFJQ"
   },
   "source": [
    "### 3.4. Evaluation Strategy"
   ]
  },
  {
   "cell_type": "code",
   "execution_count": 152,
   "metadata": {},
   "outputs": [],
   "source": [
    "ANN_EPOCHS = 3\n",
    "ANN_OPTIMIZER = 'adam'\n",
    "\n",
    "def train_model_ann(model, train_data, train_labels, test_data, test_labels):\n",
    "    print(\"Training ANN with\", len(train_labels), \"samples\")\n",
    "    start_time = time.time()\n",
    "    \n",
    "    # Trains model and returns history dict\n",
    "    model.compile(\n",
    "        optimizer=ANN_OPTIMIZER,\n",
    "        loss=tf.keras.losses.SparseCategoricalCrossentropy(from_logits=True),\n",
    "        metrics=['accuracy']\n",
    "    )\n",
    "    history = model.fit(\n",
    "        train_data,\n",
    "        train_labels,\n",
    "        epochs=ANN_EPOCHS,\n",
    "        validation_data=(test_data, test_labels)\n",
    "    #     batch_size=16\n",
    "    )\n",
    "\n",
    "    print(f\"Completed training ANN in {time.time()-start_time:.2f}s\")\n",
    "\n",
    "    print(f\"Generating predictions for test set with size\", len(test_labels))\n",
    "    start_time = time.time()\n",
    "    \n",
    "    test_out = model.predict(test_data)\n",
    "    test_probs = tf.nn.softmax(test_out, axis=1)\n",
    "    test_pred = np.argmax(test_probs, axis=1)\n",
    "    \n",
    "    print(f\"Generated predictions in {time.time()-start_time:.2f}s\")\n",
    "\n",
    "    # Return predictions for test set\n",
    "    return test_pred"
   ]
  },
  {
   "cell_type": "code",
   "execution_count": 153,
   "metadata": {},
   "outputs": [],
   "source": [
    "def train_model_svm(model, train_data, train_labels, test_data, test_labels):\n",
    "    subset = np.random.random(len(train_data)) < 0.1\n",
    "    print(\"Training SVM with\", sum(subset), \"samples\")\n",
    "    start_time = time.time()\n",
    "    \n",
    "    model.fit(train_data[subset], train_labels[subset])\n",
    "    \n",
    "    print(f\"Completed training SVM in {time.time()-start_time:.2f}s\")\n",
    "\n",
    "    print(f\"Generating predictions for test set with size\", len(test_labels))\n",
    "    start_time = time.time()\n",
    "    \n",
    "    test_pred = model.predict(test_data)\n",
    "\n",
    "    print(f\"Generated predictions in {time.time()-start_time:.2f}s\")\n",
    "    \n",
    "    # Return predictions for test set\n",
    "    return test_pred"
   ]
  },
  {
   "cell_type": "code",
   "execution_count": 154,
   "metadata": {},
   "outputs": [],
   "source": [
    "# Random Forest Training and Testing\n",
    "def train_model_xgbrf(model, train_data, train_labels, test_data, test_labels):\n",
    "    print(\"Training XGBRandomForest with\", len(train_data), \"samples\")\n",
    "    start_time = time.time()\n",
    "    \n",
    "    model.fit(train_data, train_labels)\n",
    "    \n",
    "    print(f\"Completed training XGBRandomForest in {time.time()-start_time:.2f}s\")\n",
    "    \n",
    "    print(f\"Generating predictions for test set with size\", len(test_labels))\n",
    "    \n",
    "    start_time = time.time()\n",
    "    \n",
    "    test_pred = model.predict(test_data)\n",
    "    \n",
    "    print(f\"Generated predictions in {time.time()-start_time:.2f}s\")\n",
    "\n",
    "    # Return predictions for test set\n",
    "    return test_pred"
   ]
  },
  {
   "cell_type": "code",
   "execution_count": 155,
   "metadata": {},
   "outputs": [],
   "source": [
    "def confusion_matrix(label_pred, label_true):\n",
    "    # Rows are \"real\" labels\n",
    "    # Columns are \"predicted\" labels\n",
    "    conf = tf.math.confusion_matrix(\n",
    "        label_pred,\n",
    "        label_true\n",
    "    )\n",
    "\n",
    "    return conf"
   ]
  },
  {
   "cell_type": "code",
   "execution_count": 156,
   "metadata": {},
   "outputs": [
    {
     "name": "stdout",
     "output_type": "stream",
     "text": [
      "Fold #1/12\n",
      "(203367, 200) (203367,)\n",
      "(19047, 200) (19047,)\n",
      "Training ANN with 203367 samples\n",
      "Epoch 1/3\n",
      "6356/6356 [==============================] - 7s 1ms/step - loss: 0.2213 - accuracy: 0.9253 - val_loss: 0.1222 - val_accuracy: 0.9558\n",
      "Epoch 2/3\n",
      "6356/6356 [==============================] - 6s 972us/step - loss: 0.1653 - accuracy: 0.9410 - val_loss: 0.1205 - val_accuracy: 0.9562\n",
      "Epoch 3/3\n",
      "6356/6356 [==============================] - 6s 932us/step - loss: 0.1518 - accuracy: 0.9453 - val_loss: 0.1145 - val_accuracy: 0.9578\n",
      "Completed training ANN in 18.91s\n",
      "Generating predictions for test set 19047\n",
      "Generated predictions in 0.31s\n",
      "Training SVM with 20338 samples\n",
      "Completed training SVM in 14.91s\n",
      "Generating predictions for test set 10000\n",
      "Generated predictions in 8.92s\n",
      "Training XGBRandomForest with 203367 samples\n",
      "Completed training XGBRandomForest in 11.42s\n",
      "Generating predictions for test set 19047\n",
      "Generated predictions in 0.01s\n",
      "Done fold in 54.78s\n",
      "\n",
      "Fold #2/12\n",
      "(205862, 200) (205862,)\n",
      "(16552, 200) (16552,)\n",
      "Training ANN with 205862 samples\n",
      "Epoch 1/3\n",
      "6434/6434 [==============================] - 6s 948us/step - loss: 0.2089 - accuracy: 0.9278 - val_loss: 0.1861 - val_accuracy: 0.9341\n",
      "Epoch 2/3\n",
      "6434/6434 [==============================] - 6s 956us/step - loss: 0.1542 - accuracy: 0.9437 - val_loss: 0.1660 - val_accuracy: 0.9423\n",
      "Epoch 3/3\n",
      "6434/6434 [==============================] - 6s 965us/step - loss: 0.1434 - accuracy: 0.9468 - val_loss: 0.1505 - val_accuracy: 0.9462\n",
      "Completed training ANN in 18.74s\n",
      "Generating predictions for test set 16552\n",
      "Generated predictions in 0.27s\n",
      "Training SVM with 20491 samples\n",
      "Completed training SVM in 14.67s\n",
      "Generating predictions for test set 10000\n",
      "Generated predictions in 8.89s\n",
      "Training XGBRandomForest with 205862 samples\n",
      "Completed training XGBRandomForest in 11.91s\n",
      "Generating predictions for test set 16552\n",
      "Generated predictions in 0.01s\n",
      "Done fold in 54.80s\n",
      "\n",
      "Fold #3/12\n",
      "(200805, 200) (200805,)\n",
      "(21609, 200) (21609,)\n",
      "Training ANN with 200805 samples\n",
      "Epoch 1/3\n",
      "6276/6276 [==============================] - 6s 971us/step - loss: 0.2068 - accuracy: 0.9282 - val_loss: 0.1371 - val_accuracy: 0.9530\n",
      "Epoch 2/3\n",
      "6276/6276 [==============================] - 6s 944us/step - loss: 0.1562 - accuracy: 0.9430 - val_loss: 0.1542 - val_accuracy: 0.9475\n",
      "Epoch 3/3\n",
      "6276/6276 [==============================] - 6s 948us/step - loss: 0.1445 - accuracy: 0.9463 - val_loss: 0.1413 - val_accuracy: 0.9527\n",
      "Completed training ANN in 18.25s\n",
      "Generating predictions for test set 21609\n",
      "Generated predictions in 0.34s\n",
      "Training SVM with 19811 samples\n",
      "Completed training SVM in 14.33s\n",
      "Generating predictions for test set 10000\n",
      "Generated predictions in 8.99s\n",
      "Training XGBRandomForest with 200805 samples\n",
      "Completed training XGBRandomForest in 11.83s\n",
      "Generating predictions for test set 21609\n",
      "Generated predictions in 0.01s\n",
      "Done fold in 54.06s\n",
      "\n",
      "Fold #4/12\n",
      "(205263, 200) (205263,)\n",
      "(17151, 200) (17151,)\n",
      "Training ANN with 205263 samples\n",
      "Epoch 1/3\n",
      "6415/6415 [==============================] - 7s 990us/step - loss: 0.2135 - accuracy: 0.9269 - val_loss: 0.1540 - val_accuracy: 0.9515\n",
      "Epoch 2/3\n",
      "6415/6415 [==============================] - 6s 993us/step - loss: 0.1597 - accuracy: 0.9423 - val_loss: 0.1401 - val_accuracy: 0.9522\n",
      "Epoch 3/3\n",
      "6415/6415 [==============================] - 6s 946us/step - loss: 0.1464 - accuracy: 0.9458 - val_loss: 0.1425 - val_accuracy: 0.9576\n",
      "Completed training ANN in 19.06s\n",
      "Generating predictions for test set 17151\n",
      "Generated predictions in 0.27s\n",
      "Training SVM with 20561 samples\n",
      "Completed training SVM in 15.88s\n",
      "Generating predictions for test set 10000\n",
      "Generated predictions in 9.77s\n",
      "Training XGBRandomForest with 205263 samples\n",
      "Completed training XGBRandomForest in 13.11s\n",
      "Generating predictions for test set 17151\n",
      "Generated predictions in 0.01s\n",
      "Done fold in 58.41s\n",
      "\n",
      "Fold #5/12\n",
      "(197947, 200) (197947,)\n",
      "(24467, 200) (24467,)\n",
      "Training ANN with 197947 samples\n",
      "Epoch 1/3\n",
      "6186/6186 [==============================] - 6s 988us/step - loss: 0.2138 - accuracy: 0.9267 - val_loss: 0.1382 - val_accuracy: 0.9514\n",
      "Epoch 2/3\n",
      "6186/6186 [==============================] - 6s 953us/step - loss: 0.1604 - accuracy: 0.9416 - val_loss: 0.1179 - val_accuracy: 0.9564\n",
      "Epoch 3/3\n",
      "6186/6186 [==============================] - 6s 957us/step - loss: 0.1500 - accuracy: 0.9443 - val_loss: 0.1321 - val_accuracy: 0.9483\n",
      "Completed training ANN in 18.20s\n",
      "Generating predictions for test set 24467\n",
      "Generated predictions in 0.52s\n",
      "Training SVM with 19639 samples\n",
      "Completed training SVM in 14.20s\n",
      "Generating predictions for test set 10000\n",
      "Generated predictions in 8.48s\n",
      "Training XGBRandomForest with 197947 samples\n",
      "Completed training XGBRandomForest in 11.12s\n",
      "Generating predictions for test set 24467\n",
      "Generated predictions in 0.01s\n",
      "Done fold in 52.83s\n",
      "\n",
      "Fold #6/12\n",
      "(200622, 200) (200622,)\n",
      "(21792, 200) (21792,)\n",
      "Training ANN with 200622 samples\n",
      "Epoch 1/3\n",
      "6270/6270 [==============================] - 6s 960us/step - loss: 0.2169 - accuracy: 0.9246 - val_loss: 0.1380 - val_accuracy: 0.9484\n",
      "Epoch 2/3\n",
      "6270/6270 [==============================] - 6s 942us/step - loss: 0.1587 - accuracy: 0.9419 - val_loss: 0.1233 - val_accuracy: 0.9555\n",
      "Epoch 3/3\n",
      "6270/6270 [==============================] - 6s 952us/step - loss: 0.1462 - accuracy: 0.9454 - val_loss: 0.1189 - val_accuracy: 0.9574\n",
      "Completed training ANN in 18.17s\n",
      "Generating predictions for test set 21792\n",
      "Generated predictions in 0.35s\n",
      "Training SVM with 20324 samples\n",
      "Completed training SVM in 14.92s\n",
      "Generating predictions for test set 10000\n",
      "Generated predictions in 8.84s\n",
      "Training XGBRandomForest with 200622 samples\n",
      "Completed training XGBRandomForest in 11.34s\n",
      "Generating predictions for test set 21792\n",
      "Generated predictions in 0.01s\n",
      "Done fold in 53.93s\n",
      "\n",
      "Fold #7/12\n",
      "(207052, 200) (207052,)\n",
      "(15362, 200) (15362,)\n",
      "Training ANN with 207052 samples\n",
      "Epoch 1/3\n",
      "6471/6471 [==============================] - 6s 954us/step - loss: 0.2016 - accuracy: 0.9306 - val_loss: 0.2121 - val_accuracy: 0.9240\n",
      "Epoch 2/3\n",
      "6471/6471 [==============================] - 6s 997us/step - loss: 0.1489 - accuracy: 0.9457 - val_loss: 0.1875 - val_accuracy: 0.9285\n",
      "Epoch 3/3\n",
      "6471/6471 [==============================] - 6s 966us/step - loss: 0.1357 - accuracy: 0.9492 - val_loss: 0.1761 - val_accuracy: 0.9322\n",
      "Completed training ANN in 19.16s\n",
      "Generating predictions for test set 15362\n",
      "Generated predictions in 0.26s\n",
      "Training SVM with 20976 samples\n",
      "Completed training SVM in 15.94s\n",
      "Generating predictions for test set 10000\n",
      "Generated predictions in 9.24s\n",
      "Training XGBRandomForest with 207052 samples\n",
      "Completed training XGBRandomForest in 12.00s\n",
      "Generating predictions for test set 15362\n",
      "Generated predictions in 0.01s\n",
      "Done fold in 56.93s\n",
      "\n",
      "Fold #8/12\n",
      "(203534, 200) (203534,)\n",
      "(18880, 200) (18880,)\n",
      "Training ANN with 203534 samples\n",
      "Epoch 1/3\n",
      "6361/6361 [==============================] - 6s 963us/step - loss: 0.2039 - accuracy: 0.9299 - val_loss: 0.1890 - val_accuracy: 0.9301\n",
      "Epoch 2/3\n",
      "6361/6361 [==============================] - 6s 960us/step - loss: 0.1522 - accuracy: 0.9441 - val_loss: 0.1622 - val_accuracy: 0.9378\n",
      "Epoch 3/3\n",
      "6361/6361 [==============================] - 6s 987us/step - loss: 0.1424 - accuracy: 0.9475 - val_loss: 0.1588 - val_accuracy: 0.9421\n",
      "Completed training ANN in 18.78s\n",
      "Generating predictions for test set 18880\n",
      "Generated predictions in 0.30s\n",
      "Training SVM with 20560 samples\n",
      "Completed training SVM in 15.03s\n",
      "Generating predictions for test set 10000\n",
      "Generated predictions in 8.96s\n",
      "Training XGBRandomForest with 203534 samples\n",
      "Completed training XGBRandomForest in 11.54s\n",
      "Generating predictions for test set 18880\n",
      "Generated predictions in 0.01s\n",
      "Done fold in 54.93s\n",
      "\n",
      "Fold #9/12\n",
      "(204156, 200) (204156,)\n",
      "(18258, 200) (18258,)\n",
      "Training ANN with 204156 samples\n",
      "Epoch 1/3\n",
      "6380/6380 [==============================] - 6s 989us/step - loss: 0.2153 - accuracy: 0.9266 - val_loss: 0.2149 - val_accuracy: 0.9322\n",
      "Epoch 2/3\n",
      "6380/6380 [==============================] - 6s 980us/step - loss: 0.1533 - accuracy: 0.9442 - val_loss: 0.1986 - val_accuracy: 0.9398\n",
      "Epoch 3/3\n",
      "6380/6380 [==============================] - 6s 971us/step - loss: 0.1404 - accuracy: 0.9473 - val_loss: 0.1874 - val_accuracy: 0.9396\n",
      "Completed training ANN in 19.03s\n",
      "Generating predictions for test set 18258\n"
     ]
    },
    {
     "name": "stdout",
     "output_type": "stream",
     "text": [
      "Generated predictions in 0.30s\n",
      "Training SVM with 20472 samples\n",
      "Completed training SVM in 15.30s\n",
      "Generating predictions for test set 10000\n",
      "Generated predictions in 9.17s\n",
      "Training XGBRandomForest with 204156 samples\n",
      "Completed training XGBRandomForest in 11.29s\n",
      "Generating predictions for test set 18258\n",
      "Generated predictions in 0.01s\n",
      "Done fold in 55.40s\n",
      "\n",
      "Fold #10/12\n",
      "(204838, 200) (204838,)\n",
      "(17576, 200) (17576,)\n",
      "Training ANN with 204838 samples\n",
      "Epoch 1/3\n",
      "6402/6402 [==============================] - 6s 956us/step - loss: 0.2101 - accuracy: 0.9273 - val_loss: 0.1924 - val_accuracy: 0.9336\n",
      "Epoch 2/3\n",
      "6402/6402 [==============================] - 6s 950us/step - loss: 0.1550 - accuracy: 0.9435 - val_loss: 0.1888 - val_accuracy: 0.9354\n",
      "Epoch 3/3\n",
      "6402/6402 [==============================] - 6s 951us/step - loss: 0.1423 - accuracy: 0.9470 - val_loss: 0.1746 - val_accuracy: 0.9406\n",
      "Completed training ANN in 18.56s\n",
      "Generating predictions for test set 17576\n",
      "Generated predictions in 0.32s\n",
      "Training SVM with 20812 samples\n",
      "Completed training SVM in 16.14s\n",
      "Generating predictions for test set 10000\n",
      "Generated predictions in 10.15s\n",
      "Training XGBRandomForest with 204838 samples\n",
      "Completed training XGBRandomForest in 14.23s\n",
      "Generating predictions for test set 17576\n",
      "Generated predictions in 0.01s\n",
      "Done fold in 59.71s\n",
      "\n",
      "Fold #11/12\n",
      "(207302, 200) (207302,)\n",
      "(15112, 200) (15112,)\n",
      "Training ANN with 207302 samples\n",
      "Epoch 1/3\n",
      "6479/6479 [==============================] - 6s 969us/step - loss: 0.2114 - accuracy: 0.9270 - val_loss: 0.1468 - val_accuracy: 0.9447\n",
      "Epoch 2/3\n",
      "6479/6479 [==============================] - 6s 953us/step - loss: 0.1587 - accuracy: 0.9428 - val_loss: 0.1390 - val_accuracy: 0.9502\n",
      "Epoch 3/3\n",
      "6479/6479 [==============================] - 6s 944us/step - loss: 0.1464 - accuracy: 0.9459 - val_loss: 0.1276 - val_accuracy: 0.9559\n",
      "Completed training ANN in 18.86s\n",
      "Generating predictions for test set 15112\n",
      "Generated predictions in 0.26s\n",
      "Training SVM with 20760 samples\n",
      "Completed training SVM in 15.41s\n",
      "Generating predictions for test set 10000\n",
      "Generated predictions in 8.92s\n",
      "Training XGBRandomForest with 207302 samples\n",
      "Completed training XGBRandomForest in 12.27s\n",
      "Generating predictions for test set 15112\n",
      "Generated predictions in 0.01s\n",
      "Done fold in 56.08s\n",
      "\n",
      "Fold #12/12\n",
      "(205806, 200) (205806,)\n",
      "(16608, 200) (16608,)\n",
      "Training ANN with 205806 samples\n",
      "Epoch 1/3\n",
      "6432/6432 [==============================] - 7s 992us/step - loss: 0.2150 - accuracy: 0.9261 - val_loss: 0.1664 - val_accuracy: 0.9340\n",
      "Epoch 2/3\n",
      "6432/6432 [==============================] - 6s 955us/step - loss: 0.1546 - accuracy: 0.9441 - val_loss: 0.1545 - val_accuracy: 0.9376\n",
      "Epoch 3/3\n",
      "6432/6432 [==============================] - 6s 954us/step - loss: 0.1437 - accuracy: 0.9470 - val_loss: 0.1530 - val_accuracy: 0.9386\n",
      "Completed training ANN in 18.93s\n",
      "Generating predictions for test set 16608\n",
      "Generated predictions in 0.26s\n",
      "Training SVM with 20540 samples\n",
      "Completed training SVM in 16.04s\n",
      "Generating predictions for test set 10000\n",
      "Generated predictions in 9.15s\n",
      "Training XGBRandomForest with 205806 samples\n",
      "Completed training XGBRandomForest in 11.93s\n",
      "Generating predictions for test set 16608\n",
      "Generated predictions in 0.01s\n",
      "Done fold in 56.64s\n",
      "\n",
      "Training complete\n"
     ]
    }
   ],
   "source": [
    "# 12 folds with all files\n",
    "# ~1 minute per fold -> ~12 minutes\n",
    "CV_K = len(FILE_NAMES_ALL)\n",
    "\n",
    "cv_conf_ann = []\n",
    "cv_conf_svm = []\n",
    "cv_conf_rf = []\n",
    "\n",
    "start_time_training = time.time()\n",
    "for k in range(CV_K):\n",
    "    print(f\"Fold #{k+1}/{CV_K}\")\n",
    "    start_time = time.time()\n",
    "    \n",
    "    # Get training data/labels\n",
    "    train_data = np.concatenate(files_data_all[0:k] + files_data_all[k+1:])\n",
    "    train_labels = np.concatenate(files_labels_all[0:k] + files_labels_all[k+1:])\n",
    "    print(train_data.shape, train_labels.shape)\n",
    "\n",
    "    # Get testing data/labels\n",
    "    test_data = files_data_all[k]\n",
    "    test_labels = files_labels_all[k]\n",
    "    print(test_data.shape, test_labels.shape)\n",
    "\n",
    "    # Train and test ANN\n",
    "    model_ann = get_model_ann()\n",
    "    test_pred_ann = train_model_ann(model_ann, train_data, train_labels, test_data, test_labels)\n",
    "    conf_ann = confusion_matrix(test_pred_ann, test_labels)\n",
    "    cv_conf_ann.append(conf_ann)\n",
    "\n",
    "    # Train and test SVM\n",
    "    model_svm = get_model_svm()\n",
    "    test_pred_svm = train_model_svm(model_svm, train_data, train_labels, test_data[:10000], test_labels[:10000])\n",
    "    conf_svm = confusion_matrix(test_pred_svm, test_labels[:10000])\n",
    "    cv_conf_svm.append(conf_svm)\n",
    "\n",
    "    # Train and Test XGBRandomForest\n",
    "    model_xgbrf = get_model_rf()\n",
    "    test_pred_xgbrf = train_model_xgbrf(model_xgbrf, train_data, train_labels, test_data, test_labels)\n",
    "    conf_xgbrf = confusion_matrix(test_pred_xgbrf, test_labels)\n",
    "    cv_conf_rf.append(conf_xgbrf)\n",
    "\n",
    "    print(f\"Done fold in {time.time() - start_time:.2f}s\\n\")\n",
    "\n",
    "print(f\"Training complete in {time.time() - start_time_training:.2f}s\")"
   ]
  },
  {
   "cell_type": "code",
   "execution_count": 161,
   "metadata": {},
   "outputs": [
    {
     "name": "stdout",
     "output_type": "stream",
     "text": [
      "[<tf.Tensor: shape=(4, 4), dtype=int32, numpy=\n",
      "array([[16003,   135,    97,    96],\n",
      "       [   85,   580,     0,     2],\n",
      "       [  164,     0,   805,     0],\n",
      "       [  190,    35,     0,   855]], dtype=int32)>, <tf.Tensor: shape=(4, 4), dtype=int32, numpy=\n",
      "array([[14168,    34,    90,   434],\n",
      "       [   64,   521,     0,     0],\n",
      "       [  222,     0,   711,     6],\n",
      "       [   41,     0,     0,   261]], dtype=int32)>, <tf.Tensor: shape=(4, 4), dtype=int32, numpy=\n",
      "array([[18336,   125,   152,   106],\n",
      "       [  389,  1077,     0,     3],\n",
      "       [  107,     0,   497,     0],\n",
      "       [  141,     0,     0,   676]], dtype=int32)>, <tf.Tensor: shape=(4, 4), dtype=int32, numpy=\n",
      "array([[14631,    93,   127,    93],\n",
      "       [   84,   507,     0,     0],\n",
      "       [  120,     0,   576,     0],\n",
      "       [  210,     0,     0,   710]], dtype=int32)>, <tf.Tensor: shape=(4, 4), dtype=int32, numpy=\n",
      "array([[20616,   169,    68,   285],\n",
      "       [  124,   775,     0,    41],\n",
      "       [  449,     0,  1385,     0],\n",
      "       [  122,     8,     0,   425]], dtype=int32)>, <tf.Tensor: shape=(4, 4), dtype=int32, numpy=\n",
      "array([[18698,   137,   133,   238],\n",
      "       [  119,   856,     0,    38],\n",
      "       [  183,     0,   918,     0],\n",
      "       [   73,     7,     0,   392]], dtype=int32)>, <tf.Tensor: shape=(4, 4), dtype=int32, numpy=\n",
      "array([[12676,   257,   148,   232],\n",
      "       [   92,   520,     0,     2],\n",
      "       [   77,     0,   543,    36],\n",
      "       [  163,    25,     9,   582]], dtype=int32)>, <tf.Tensor: shape=(4, 4), dtype=int32, numpy=\n",
      "array([[16110,   245,   184,   339],\n",
      "       [  198,   702,     0,     0],\n",
      "       [   81,     0,   462,     4],\n",
      "       [   31,     6,     6,   512]], dtype=int32)>, <tf.Tensor: shape=(4, 4), dtype=int32, numpy=\n",
      "array([[15321,    81,   158,   433],\n",
      "       [  133,   569,     0,    49],\n",
      "       [  132,     0,   794,     7],\n",
      "       [  109,     0,     0,   472]], dtype=int32)>, <tf.Tensor: shape=(4, 4), dtype=int32, numpy=\n",
      "array([[14831,   128,    90,   399],\n",
      "       [  148,   975,     0,     0],\n",
      "       [  120,     0,   613,   137],\n",
      "       [   22,     0,     0,   113]], dtype=int32)>, <tf.Tensor: shape=(4, 4), dtype=int32, numpy=\n",
      "array([[12848,    48,   110,   165],\n",
      "       [   70,   552,     0,     0],\n",
      "       [   58,     0,   560,     1],\n",
      "       [  135,     0,    80,   485]], dtype=int32)>, <tf.Tensor: shape=(4, 4), dtype=int32, numpy=\n",
      "array([[13969,   163,   100,   258],\n",
      "       [  296,   688,     0,    17],\n",
      "       [   89,     0,   454,     0],\n",
      "       [   64,     0,    33,   477]], dtype=int32)>]\n",
      "[<tf.Tensor: shape=(4, 4), dtype=int32, numpy=\n",
      "array([[8568,   79,   78,  133],\n",
      "       [  19,  221,    0,    0],\n",
      "       [  81,    0,  473,    0],\n",
      "       [  29,    0,    0,  319]], dtype=int32)>, <tf.Tensor: shape=(4, 4), dtype=int32, numpy=\n",
      "array([[8597,   83,   96,  343],\n",
      "       [  20,  268,    0,    0],\n",
      "       [ 132,    0,  455,    2],\n",
      "       [   0,    0,    0,    4]], dtype=int32)>, <tf.Tensor: shape=(4, 4), dtype=int32, numpy=\n",
      "array([[8618,  109,   95,   82],\n",
      "       [ 137,  343,    0,    0],\n",
      "       [  35,    0,  304,    0],\n",
      "       [   8,    0,    0,  269]], dtype=int32)>, <tf.Tensor: shape=(4, 4), dtype=int32, numpy=\n",
      "array([[8491,   42,   81,  129],\n",
      "       [  61,  258,    0,    0],\n",
      "       [  92,    0,  270,    0],\n",
      "       [ 103,    0,    0,  473]], dtype=int32)>, <tf.Tensor: shape=(4, 4), dtype=int32, numpy=\n",
      "array([[8566,  118,   76,   85],\n",
      "       [  40,  432,    0,   15],\n",
      "       [  89,    0,  475,    0],\n",
      "       [   3,    0,    0,  101]], dtype=int32)>, <tf.Tensor: shape=(4, 4), dtype=int32, numpy=\n",
      "array([[8606,  110,  105,  126],\n",
      "       [  42,  390,    0,    0],\n",
      "       [ 113,    0,  345,    0],\n",
      "       [  39,    0,    0,  124]], dtype=int32)>, <tf.Tensor: shape=(4, 4), dtype=int32, numpy=\n",
      "array([[8401,  126,  109,  345],\n",
      "       [  51,  320,    0,    0],\n",
      "       [  26,    0,  341,   16],\n",
      "       [  20,   55,    0,  190]], dtype=int32)>, <tf.Tensor: shape=(4, 4), dtype=int32, numpy=\n",
      "array([[8612,  189,   46,  239],\n",
      "       [  54,  413,    0,    0],\n",
      "       [  25,    0,  255,    0],\n",
      "       [   2,    0,    0,  165]], dtype=int32)>, <tf.Tensor: shape=(4, 4), dtype=int32, numpy=\n",
      "array([[8472,   50,   91,   51],\n",
      "       [  14,  299,    0,    0],\n",
      "       [  71,    0,  510,    0],\n",
      "       [  42,    0,    0,  400]], dtype=int32)>, <tf.Tensor: shape=(4, 4), dtype=int32, numpy=\n",
      "array([[8439,  107,   75,  250],\n",
      "       [  78,  595,    0,    0],\n",
      "       [  79,    0,  277,   48],\n",
      "       [   1,    0,    0,   51]], dtype=int32)>, <tf.Tensor: shape=(4, 4), dtype=int32, numpy=\n",
      "array([[8481,   43,  220,  167],\n",
      "       [  36,  408,    0,    0],\n",
      "       [  20,    0,  348,    0],\n",
      "       [  62,    0,   32,  183]], dtype=int32)>, <tf.Tensor: shape=(4, 4), dtype=int32, numpy=\n",
      "array([[8444,   98,  162,  155],\n",
      "       [ 200,  552,    0,    0],\n",
      "       [  33,    0,  188,    0],\n",
      "       [  21,    0,    0,  147]], dtype=int32)>]\n",
      "[<tf.Tensor: shape=(4, 4), dtype=int32, numpy=\n",
      "array([[16267,   191,   189,   355],\n",
      "       [   63,   559,     0,     0],\n",
      "       [   82,     0,   713,     0],\n",
      "       [   30,     0,     0,   598]], dtype=int32)>, <tf.Tensor: shape=(4, 4), dtype=int32, numpy=\n",
      "array([[14309,    91,   126,   644],\n",
      "       [   31,   464,     0,     0],\n",
      "       [  155,     0,   675,     0],\n",
      "       [    0,     0,     0,    57]], dtype=int32)>, <tf.Tensor: shape=(4, 4), dtype=int32, numpy=\n",
      "array([[18644,   283,   143,   221],\n",
      "       [  214,   919,     0,     0],\n",
      "       [   82,     0,   504,     0],\n",
      "       [   33,     0,     2,   564]], dtype=int32)>, <tf.Tensor: shape=(4, 4), dtype=int32, numpy=\n",
      "array([[14826,   102,   144,   210],\n",
      "       [   65,   498,     0,     2],\n",
      "       [   95,     0,   559,     0],\n",
      "       [   59,     0,     0,   591]], dtype=int32)>, <tf.Tensor: shape=(4, 4), dtype=int32, numpy=\n",
      "array([[21110,   313,   197,   447],\n",
      "       [   41,   639,     0,    21],\n",
      "       [  157,     0,  1256,     0],\n",
      "       [    3,     0,     0,   283]], dtype=int32)>, <tf.Tensor: shape=(4, 4), dtype=int32, numpy=\n",
      "array([[18856,   221,   186,   323],\n",
      "       [   46,   779,     0,     0],\n",
      "       [  121,     0,   865,     0],\n",
      "       [   50,     0,     0,   345]], dtype=int32)>, <tf.Tensor: shape=(4, 4), dtype=int32, numpy=\n",
      "array([[12862,   264,   149,   687],\n",
      "       [   74,   534,     0,     0],\n",
      "       [   70,     0,   551,    17],\n",
      "       [    2,     4,     0,   148]], dtype=int32)>, <tf.Tensor: shape=(4, 4), dtype=int32, numpy=\n",
      "array([[16321,   420,   207,   725],\n",
      "       [   65,   532,     0,     0],\n",
      "       [   34,     0,   445,     0],\n",
      "       [    0,     1,     0,   130]], dtype=int32)>, <tf.Tensor: shape=(4, 4), dtype=int32, numpy=\n",
      "array([[15519,   160,   216,   618],\n",
      "       [   57,   490,     0,     0],\n",
      "       [   81,     0,   736,     0],\n",
      "       [   38,     0,     0,   343]], dtype=int32)>, <tf.Tensor: shape=(4, 4), dtype=int32, numpy=\n",
      "array([[14947,   278,   152,   544],\n",
      "       [   92,   825,     0,     0],\n",
      "       [   82,     0,   551,   104],\n",
      "       [    0,     0,     0,     1]], dtype=int32)>, <tf.Tensor: shape=(4, 4), dtype=int32, numpy=\n",
      "array([[12996,    92,   297,   301],\n",
      "       [   26,   508,     0,     0],\n",
      "       [   20,     0,   436,     0],\n",
      "       [   69,     0,    17,   350]], dtype=int32)>, <tf.Tensor: shape=(4, 4), dtype=int32, numpy=\n",
      "array([[14179,   165,   215,   442],\n",
      "       [  194,   686,     0,     0],\n",
      "       [   36,     0,   363,     0],\n",
      "       [    9,     0,     9,   310]], dtype=int32)>]\n"
     ]
    }
   ],
   "source": [
    "print(cv_conf_ann)\n",
    "print(cv_conf_svm)\n",
    "print(cv_conf_rf)"
   ]
  },
  {
   "cell_type": "markdown",
   "metadata": {
    "id": "T2YPuEpSrTrv"
   },
   "source": [
    "## 4. Results"
   ]
  },
  {
   "cell_type": "markdown",
   "metadata": {
    "id": "MxCTdo0_rTuH"
   },
   "source": [
    "### 4.1. Part A"
   ]
  },
  {
   "cell_type": "code",
   "execution_count": 162,
   "metadata": {},
   "outputs": [],
   "source": [
    "def print_confusion_matrix(conf):\n",
    "    print(conf)\n",
    "    \n",
    "    overall_total = sum(sum(conf))\n",
    "    overall_correct = sum([conf[i][i] for i in range(len(conf))])\n",
    "    print(f\"Overall accuracy: {100*overall_correct/overall_total:.2f}% ({overall_correct}/{overall_total})\")\n",
    "    \n",
    "    fp = sum(conf[0][1:])\n",
    "    tp = sum(sum(conf[1:]))\n",
    "    print(f\"False positives {fp}\")\n",
    "    print(f\"True positives {tp}\")\n",
    "    print(f\"False discovery (fp/(tp+fp)): {fp/(fp+tp):.4f} ({fp}/{fp+tp})\")\n",
    "    \n",
    "    for i in range(len(conf)):\n",
    "        letter = str(EVENT_ID_LETTER_MAP[i])[0]\n",
    "        \n",
    "        total = sum(conf[i])\n",
    "        correct = conf[i][i]\n",
    "        acc_total = 100*correct/total\n",
    "        \n",
    "        s = f\"Event {letter} ({i}) accuracy: {correct:6}/{total: <6} (t_acc {acc_total:5.2f}%)\"\n",
    "        if i > 0:\n",
    "            acc_event = 100*correct/(total - conf[i][0])\n",
    "            s += f\" (e_acc {acc_event:5.2f}%)\"\n",
    "        print(s)\n",
    "        \n",
    "    print(\"\")\n",
    "\n",
    "    return conf"
   ]
  },
  {
   "cell_type": "code",
   "execution_count": 163,
   "metadata": {},
   "outputs": [
    {
     "name": "stdout",
     "output_type": "stream",
     "text": [
      "[[188207   1615   1457   3078]\n",
      " [  1802   8322      0    152]\n",
      " [  1802      0   8318    191]\n",
      " [  1301     81    128   5960]]\n",
      "Overall accuracy: 94.78% (210807/222414)\n",
      "False positives 6150\n",
      "True positives 28057\n",
      "False discovery (fp/(tp+fp)): 0.1798 (6150/34207)\n",
      "Event N (0) accuracy: 188207/194357 (t_acc 96.84%)\n",
      "Event L (1) accuracy:   8322/10276  (t_acc 80.98%) (e_acc 98.21%)\n",
      "Event R (2) accuracy:   8318/10311  (t_acc 80.67%) (e_acc 97.76%)\n",
      "Event S (3) accuracy:   5960/7470   (t_acc 79.79%) (e_acc 96.61%)\n",
      "\n",
      "[[102295   1154   1234   2105]\n",
      " [   752   4499      0     15]\n",
      " [   796      0   4241     66]\n",
      " [   330     55     32   2426]]\n",
      "Overall accuracy: 94.55% (113461/120000)\n",
      "False positives 4493\n",
      "True positives 13212\n",
      "False discovery (fp/(tp+fp)): 0.2538 (4493/17705)\n",
      "Event N (0) accuracy: 102295/106788 (t_acc 95.79%)\n",
      "Event L (1) accuracy:   4499/5266   (t_acc 85.43%) (e_acc 99.67%)\n",
      "Event R (2) accuracy:   4241/5103   (t_acc 83.11%) (e_acc 98.47%)\n",
      "Event S (3) accuracy:   2426/2843   (t_acc 85.33%) (e_acc 96.54%)\n",
      "\n",
      "[[190836   2580   2221   5517]\n",
      " [   968   7433      0     23]\n",
      " [  1015      0   7654    121]\n",
      " [   293      5     28   3720]]\n",
      "Overall accuracy: 94.26% (209643/222414)\n",
      "False positives 10318\n",
      "True positives 21260\n",
      "False discovery (fp/(tp+fp)): 0.3267 (10318/31578)\n",
      "Event N (0) accuracy: 190836/201154 (t_acc 94.87%)\n",
      "Event L (1) accuracy:   7433/8424   (t_acc 88.24%) (e_acc 99.69%)\n",
      "Event R (2) accuracy:   7654/8790   (t_acc 87.08%) (e_acc 98.44%)\n",
      "Event S (3) accuracy:   3720/4046   (t_acc 91.94%) (e_acc 99.12%)\n",
      "\n"
     ]
    },
    {
     "data": {
      "text/plain": [
       "array([[190836,   2580,   2221,   5517],\n",
       "       [   968,   7433,      0,     23],\n",
       "       [  1015,      0,   7654,    121],\n",
       "       [   293,      5,     28,   3720]])"
      ]
     },
     "execution_count": 163,
     "metadata": {},
     "output_type": "execute_result"
    }
   ],
   "source": [
    "total_conf_ann = np.sum(cv_conf_ann, axis=0)\n",
    "print_confusion_matrix(total_conf_ann)\n",
    "\n",
    "total_conf_svm = np.sum(cv_conf_svm, axis=0)\n",
    "print_confusion_matrix(total_conf_svm)\n",
    "\n",
    "total_conf_rf = np.sum(cv_conf_rf, axis=0)\n",
    "print_confusion_matrix(total_conf_rf)"
   ]
  },
  {
   "cell_type": "code",
   "execution_count": 164,
   "metadata": {},
   "outputs": [
    {
     "name": "stderr",
     "output_type": "stream",
     "text": [
      "/tmp/ipykernel_3358914/2372323146.py:17: UserWarning: FixedFormatter should only be used together with FixedLocator\n",
      "  ax.xaxis.set_ticklabels(['No Event', 'Left', 'Right', 'Dbl Blink'])\n",
      "/tmp/ipykernel_3358914/2372323146.py:18: UserWarning: FixedFormatter should only be used together with FixedLocator\n",
      "  ax.yaxis.set_ticklabels(['No Event', 'Left', 'Right', 'Dbl Blink'], rotation=0)\n"
     ]
    },
    {
     "data": {
      "image/png": "[encoded data removed]",
      "text/plain": [
       "<Figure size 1440x720 with 10 Axes>"
      ]
     },
     "metadata": {},
     "output_type": "display_data"
    }
   ],
   "source": [
    "def plotConfMatrix2(models, model_names):\n",
    "    fig = plt.figure(figsize=(20,10))\n",
    "    plt.subplots_adjust(wspace=0.1, hspace=0.05)\n",
    "    sns.set(font_scale=1.3)\n",
    "    gs = fig.add_gridspec(2,3)\n",
    "    \n",
    "    # Normalize plots\n",
    "    for index, model in enumerate(models):\n",
    "        normalize = np.sum(model, axis=1)\n",
    "        model = model/normalize.reshape(-1,1)\n",
    "        ax = fig.add_subplot(gs[0, index])\n",
    "        s = sns.heatmap(model, annot=True, cmap='Blues', ax=fig.add_subplot(gs[0,index]), \n",
    "                        xticklabels=['No Event', 'Left', 'Right', 'Dbl Blink'], \n",
    "                        yticklabels=['No Event', 'Left', 'Right', 'Dbl Blink'])\n",
    "        s.set(xlabel='Predicted', ylabel='Actual')\n",
    "        ax.set_title(f'{model_names[index]} CV Normalized Confusion Matrix')\n",
    "        ax.xaxis.set_ticklabels(['No Event', 'Left', 'Right', 'Dbl Blink'])\n",
    "        ax.yaxis.set_ticklabels(['No Event', 'Left', 'Right', 'Dbl Blink'], rotation=0)\n",
    "        ax.axis('off')\n",
    "        ax.axis('tight')\n",
    "\n",
    "    ax = fig.add_subplot(gs[1,:])\n",
    "    columns = ('Metrics', 'ANN', 'SVM', 'RF')\n",
    "\n",
    "    row_labels = [\n",
    "        \"Accuracy\",\n",
    "        \"B\",\n",
    "        \"C\",\n",
    "        \"D\",\n",
    "        \"E\",\n",
    "        \"F\",\n",
    "        \"G\",\n",
    "        \"H\",\n",
    "        \"I\",\n",
    "        \"J\"\n",
    "    ]\n",
    "\n",
    "    data = []\n",
    "    for i in range(10):\n",
    "        data.append([f\"{3.53242424:.2f}\", f\"{3.53242424:.2f}\", f\"{3.53242424:.2f}\"])\n",
    "#     data = np.random.random((10,3)) #Insert data for all of the columns as array \n",
    "\n",
    "    table = ax.table(cellText=data, colLabels=columns, rowLabels=row_labels, loc='center')\n",
    "    \n",
    "    table.auto_set_font_size(False)\n",
    "    table.set_fontsize(20) \n",
    "    table.scale(0.5, 2)\n",
    "    \n",
    "    ax.axis('tight')\n",
    "    ax.axis('off')\n",
    "    fig.tight_layout()\n",
    "    \n",
    "    plt.show()\n",
    "\n",
    "\n",
    "plotConfMatrix2(\n",
    "    [total_conf_ann, total_conf_svm, total_conf_rf],\n",
    "    ['ANN', 'SVM', 'RF']\n",
    ")"
   ]
  },
  {
   "cell_type": "markdown",
   "metadata": {
    "id": "j9z3anWmrTwe"
   },
   "source": [
    "### 4.2. Part B"
   ]
  },
  {
   "cell_type": "markdown",
   "metadata": {
    "id": "HKFJra9urTyp"
   },
   "source": [
    "## 5. Discussion and Conclusion"
   ]
  },
  {
   "cell_type": "markdown",
   "metadata": {
    "id": "-sb2q5DyrnY_"
   },
   "source": [
    "### 5.1. Issues Addressed"
   ]
  },
  {
   "cell_type": "markdown",
   "metadata": {
    "id": "G5Abg6FlrnbR"
   },
   "source": [
    "### 5.2. Conclusion"
   ]
  },
  {
   "cell_type": "markdown",
   "metadata": {
    "id": "TGVcADPHrnd5"
   },
   "source": [
    "## 6. Student Contribution"
   ]
  },
  {
   "cell_type": "markdown",
   "metadata": {
    "id": "X0X4cmXHrngc"
   },
   "source": [
    "### 6.1. Matty"
   ]
  },
  {
   "cell_type": "markdown",
   "metadata": {
    "id": "Bafpxraprni8"
   },
   "source": [
    "### 6.2. Ashwin"
   ]
  },
  {
   "cell_type": "markdown",
   "metadata": {
    "id": "8zjRi9i3r9nn"
   },
   "source": [
    "### 6.3. Marcus"
   ]
  },
  {
   "cell_type": "markdown",
   "metadata": {
    "id": "ZaTrmwj7r9qK"
   },
   "source": [
    "### 6.4. Alex"
   ]
  },
  {
   "cell_type": "markdown",
   "metadata": {
    "id": "6HS1Q0Pxr9sZ"
   },
   "source": [
    "### 6.5. Jingyu"
   ]
  },
  {
   "cell_type": "markdown",
   "metadata": {
    "id": "6ukHvavmr9ui"
   },
   "source": [
    "### 6.9. Josh\n"
   ]
  },
  {
   "cell_type": "markdown",
   "metadata": {
    "id": "7bZM8plir9xL"
   },
   "source": []
  },
  {
   "cell_type": "markdown",
   "metadata": {
    "id": "8q57R1Hkr9zj"
   },
   "source": []
  },
  {
   "cell_type": "markdown",
   "metadata": {
    "id": "pjMRmECbr92D"
   },
   "source": []
  },
  {
   "cell_type": "markdown",
   "metadata": {
    "id": "3BoyYYZyr94d"
   },
   "source": []
  },
  {
   "cell_type": "markdown",
   "metadata": {
    "id": "Paog5ZoCr97E"
   },
   "source": []
  },
  {
   "cell_type": "markdown",
   "metadata": {
    "id": "5pd0gRmUr99z"
   },
   "source": []
  },
  {
   "cell_type": "markdown",
   "metadata": {
    "id": "CkXy1VyMr-BO"
   },
   "source": []
  },
  {
   "cell_type": "markdown",
   "metadata": {
    "id": "A02CJpxarnld"
   },
   "source": []
  },
  {
   "cell_type": "markdown",
   "metadata": {
    "id": "OjUMV1vkrnoP"
   },
   "source": []
  }
 ],
 "metadata": {
  "colab": {
   "collapsed_sections": [],
   "name": "Final Report.ipynb",
   "provenance": []
  },
  "kernelspec": {
   "display_name": "Python 3 (ipykernel)",
   "language": "python",
   "name": "python3"
  },
  "language_info": {
   "codemirror_mode": {
    "name": "ipython",
    "version": 3
   },
   "file_extension": ".py",
   "mimetype": "text/x-python",
   "name": "python",
   "nbconvert_exporter": "python",
   "pygments_lexer": "ipython3",
   "version": "3.10.4"
  }
 },
 "nbformat": 4,
 "nbformat_minor": 1
}
