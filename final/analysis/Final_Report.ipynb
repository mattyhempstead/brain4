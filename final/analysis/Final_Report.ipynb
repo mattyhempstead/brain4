{
 "cells": [
  {
   "cell_type": "markdown",
   "metadata": {
    "id": "MiMZMZYYpFA9"
   },
   "source": [
    "# Final Report"
   ]
  },
  {
   "cell_type": "markdown",
   "metadata": {
    "id": "hZZESMLfqCMX"
   },
   "source": []
  },
  {
   "cell_type": "markdown",
   "metadata": {
    "id": "zd11uFJxp8Dd"
   },
   "source": [
    "## 1. Executive Summary"
   ]
  },
  {
   "cell_type": "markdown",
   "metadata": {
    "id": "ri2fXIvFp8GH"
   },
   "source": [
    "## 2. Aim and Background"
   ]
  },
  {
   "cell_type": "markdown",
   "metadata": {
    "id": "UYqcpOKnp8Ig"
   },
   "source": [
    "### 2.1. Problem"
   ]
  },
  {
   "cell_type": "markdown",
   "metadata": {
    "id": "uZzWojd-rBmf"
   },
   "source": [
    "### 2.2. Aim"
   ]
  },
  {
   "cell_type": "markdown",
   "metadata": {
    "id": "hGFpT0m-rBxy"
   },
   "source": [
    "## 3. Methods\n"
   ]
  },
  {
   "cell_type": "markdown",
   "metadata": {
    "id": "HwcexQTIrB52"
   },
   "source": [
    "### 3.1. Data Collection"
   ]
  },
  {
   "cell_type": "code",
   "execution_count": 1,
   "metadata": {
    "id": "l7Bv-0EM83z5"
   },
   "outputs": [],
   "source": [
    "import time\n",
    "import math\n",
    "import numpy as np\n",
    "import pandas as pd\n",
    "import matplotlib.pyplot as plt\n",
    "import tensorflow as tf\n",
    "from scipy import signal\n",
    "import seaborn as sns"
   ]
  },
  {
   "cell_type": "code",
   "execution_count": 59,
   "metadata": {},
   "outputs": [],
   "source": [
    "# CONFIG\n",
    "\n",
    "EVENT_ID_MAP = {\n",
    "    None: 0,\n",
    "    \"L\": 1,\n",
    "    \"R\": 2,\n",
    "    \"S\": 3,\n",
    "}\n",
    "EVENT_ID_LETTER_MAP = {EVENT_ID_MAP[i]:i for i in EVENT_ID_MAP}\n",
    "\n",
    "EVENT_COLOR_MAP = {\n",
    "    None: \"black\",\n",
    "    \"L\": \"red\",\n",
    "    \"R\": \"blue\",\n",
    "    \"S\": \"green\",\n",
    "}\n",
    "\n",
    "EVENT_ID_NAME_MAP = {\n",
    "    0: \"Nothing\",\n",
    "    1: \"Left Wink\",\n",
    "    2: \"Right Wink\",\n",
    "    3: \"Dbl Blink\",\n",
    "}\n",
    "\n",
    "BRAINBOX_SAMPLE_RATE = 10000\n",
    "\n",
    "DOWNSAMPLE_RATE = 100\n",
    "\n",
    "FILTER_DATA = True\n",
    "FILTER_CUTOFF = 7\n",
    "\n",
    "NORMALISE_DATA = True\n",
    "\n",
    "EVENT_LENGTH = 2 # length of a given event sequence in seconds\n",
    "EVENT_SAMPLE_COUNT = int(EVENT_LENGTH * BRAINBOX_SAMPLE_RATE / DOWNSAMPLE_RATE) # size of event in samples\n",
    "\n",
    "EVENT_START = -0.75\n",
    "EVENT_START_OFFSET = int(EVENT_START * BRAINBOX_SAMPLE_RATE / DOWNSAMPLE_RATE)\n",
    "\n",
    "EVENT_END = -0.25\n",
    "EVENT_END_OFFSET = int(EVENT_END * BRAINBOX_SAMPLE_RATE / DOWNSAMPLE_RATE)\n",
    "\n",
    "INPUT_SHAPE = (EVENT_SAMPLE_COUNT,)\n",
    "OUTPUT_SHAPE = len(EVENT_ID_MAP)  # number of categories (including None)\n",
    "\n",
    "EVENTS_PATH = \"../src/data_collection/data/events/\"\n",
    "SAMPLES_PATH = \"../src/data_collection/data/waves/\"\n",
    "\n",
    "FILE_NAMES_ALL = [\n",
    "    \"DATA_2022-05-13_Josh_0001_3_1652400625\",\n",
    "#     \"DATA_2022-05-13_Josh_0001_3_1652400939\",\n",
    "    \"DATA_2022-05-13_Josh_0001_4_1652401267\",\n",
    "#     \"DATA_2022-05-13_Josh_0001_4_1652401740\",\n",
    "    \"DATA_2022-05-13_Josh_0001_5_1652405337\",\n",
    "#     \"DATA_2022-05-13_Josh_0001_5_1652405637\",\n",
    "#     \"DATA_2022-05-13_Josh_0001_6_1652406023\",\n",
    "#     \"DATA_2022-05-13_Josh_0001_6_1652406202\",\n",
    "#     \"DATA_2022-05-13_Josh_0001_7_1652406589\",\n",
    "#     \"DATA_2022-05-13_Josh_0001_7_1652406788\",\n",
    "#     \"DATA_2022-05-13_Josh_0001_8_1652407331\",\n",
    "#     \"DATA_2022-05-13_Josh_0001_8_1652407508\",\n",
    "]"
   ]
  },
  {
   "cell_type": "code",
   "execution_count": 60,
   "metadata": {},
   "outputs": [],
   "source": [
    "def load_sample_data(file_path:str):\n",
    "    samples_df = pd.read_csv(\n",
    "        f\"{file_path}.csv\",\n",
    "    )\n",
    "\n",
    "    # Sort because some samples are not written in order\n",
    "    samples_df = samples_df.sort_values(\"time_sec\", ascending=True)\n",
    "    samples_df.reset_index(drop=True, inplace=True)\n",
    "\n",
    "    return samples_df"
   ]
  },
  {
   "cell_type": "code",
   "execution_count": 61,
   "metadata": {},
   "outputs": [],
   "source": [
    "def load_event_data(file_path:str, event_id_map:dict, event_color_map:dict):\n",
    "    \"\"\" Reads brainbox event data into a data frame \"\"\"\n",
    "\n",
    "    events_df = pd.read_csv(\n",
    "        f\"{file_path}.csv\",\n",
    "        names=[\"time_sec\", \"event_letter\", \"event_name\"],\n",
    "        header=0,\n",
    "    )\n",
    "\n",
    "    events_df[\"event_id\"] = events_df[\"event_letter\"].map(event_id_map)\n",
    "    events_df[\"event_color\"] = events_df[\"event_letter\"].map(event_color_map)\n",
    "\n",
    "    return events_df"
   ]
  },
  {
   "cell_type": "code",
   "execution_count": 62,
   "metadata": {},
   "outputs": [],
   "source": [
    "def merge_samples_events(\n",
    "    samples_df,\n",
    "    events_df,\n",
    "    event_start:float,\n",
    "    event_end:float,\n",
    "    event_id_map:dict,\n",
    "    event_color_map:dict,\n",
    "):\n",
    "    \"\"\"\n",
    "    Merges the sample and event dataframes.\n",
    "\n",
    "    Events will be assigned to individual samples within a specified time range around the market.\n",
    "    \"\"\"\n",
    "    # Add target classification event to each sample\n",
    "    merge_df = samples_df.copy()\n",
    "\n",
    "    # Default is None (no event)\n",
    "    merge_df[\"event_letter\"] = None\n",
    "    merge_df[\"event_name\"] = \"Nothing\"\n",
    "    merge_df[\"event_id\"] = event_id_map[None]\n",
    "    merge_df[\"event_color\"] = event_color_map[None]\n",
    "    #print(sample_100_df)\n",
    "\n",
    "    # Assign all events within range around their event marker\n",
    "    for idx,row in events_df.iterrows():\n",
    "        # Skip blinks for now\n",
    "        # if row[\"event_type\"] not in [\"Left\", \"Right\"]:\n",
    "        #     continue\n",
    "\n",
    "        event_interval = (merge_df[\"time_sec\"] > (row[\"time_sec\"] + event_start))\n",
    "        event_interval &= (merge_df[\"time_sec\"] < (row[\"time_sec\"] + event_end))\n",
    "        \n",
    "        merge_df.loc[event_interval,\"event_id\"] = row[\"event_id\"]\n",
    "        merge_df.loc[event_interval,\"event_name\"] = row[\"event_name\"]\n",
    "        merge_df.loc[event_interval,\"event_color\"] = row[\"event_color\"]\n",
    "\n",
    "    return merge_df"
   ]
  },
  {
   "cell_type": "markdown",
   "metadata": {
    "id": "gvrrURLQpFDk"
   },
   "source": [
    "### 3.2. Data Preprocessing"
   ]
  },
  {
   "cell_type": "markdown",
   "metadata": {},
   "source": [
    "#### 3.2.1. Downsampling"
   ]
  },
  {
   "cell_type": "code",
   "execution_count": 63,
   "metadata": {},
   "outputs": [],
   "source": [
    "def data_downsample(sample_df, n=100):\n",
    "    \"\"\"\n",
    "    Downsamples the wave data (not events) to 1/nth of a second by taking mean sample over that period.\n",
    "    \"\"\"\n",
    "    # Crop size to allow downsampling\n",
    "    sample_df = sample_df[:len(sample_df) - (len(sample_df)%n)]\n",
    "    \n",
    "    return pd.DataFrame({\n",
    "        \"time_sec\": np.min(np.array(sample_df[\"time_sec\"]).reshape(-1,n), 1),\n",
    "        \"sample\": np.mean(np.array(sample_df[\"sample\"]).reshape(-1,n), 1),\n",
    "    })"
   ]
  },
  {
   "cell_type": "markdown",
   "metadata": {},
   "source": [
    "#### 3.2.2. Data Segmentation"
   ]
  },
  {
   "cell_type": "code",
   "execution_count": 66,
   "metadata": {},
   "outputs": [],
   "source": [
    "def data_segmentation(merge_df, event_sample_count:int, filter_data:bool):\n",
    "    \"\"\"\n",
    "    Returns a list of each time series sequence labelled by the event.\n",
    "    \"\"\"\n",
    "    print(\"Transforming data into individual sequences...\")\n",
    "\n",
    "    seqs = []\n",
    "    labels = []\n",
    "\n",
    "    for idx,row in merge_df[:-event_sample_count].iterrows():\n",
    "        label = row[\"event_id\"]\n",
    "        if label is None:\n",
    "            label = -1\n",
    "        labels.append(label)\n",
    "\n",
    "        seq = list(merge_df[\"sample\"][idx:idx+event_sample_count])\n",
    "        seqs.append(seq)\n",
    "\n",
    "    seqs = np.array(seqs)\n",
    "    labels = np.array(labels)\n",
    "\n",
    "    print(f\"Transformed into {seqs.shape[0]} sequences of size {seqs.shape[1]}\")\n",
    "    \n",
    "    return (seqs, labels)"
   ]
  },
  {
   "cell_type": "markdown",
   "metadata": {},
   "source": [
    "#### 3.2.3. Filter"
   ]
  },
  {
   "cell_type": "code",
   "execution_count": 64,
   "metadata": {},
   "outputs": [],
   "source": [
    "# Butterworth filter\n",
    "def data_filter(rawData, order:int=5, cutOff:int=7, Fs:int=10000):\n",
    "    \"\"\"\n",
    "    Low pass\n",
    "    cutOff in Hz\n",
    "    \"\"\"\n",
    "    b, a = signal.butter(order, Wn=cutOff/(Fs/2)) \n",
    "    # Zero Phase double filter\n",
    "    filteredSignal = signal.filtfilt(b, a, rawData)\n",
    "    return filteredSignal"
   ]
  },
  {
   "cell_type": "markdown",
   "metadata": {},
   "source": [
    "#### 3.2.4. Normalising"
   ]
  },
  {
   "cell_type": "code",
   "execution_count": 65,
   "metadata": {},
   "outputs": [],
   "source": [
    "def data_normalise(data):\n",
    "    return (data - data.mean()) / data.std()"
   ]
  },
  {
   "cell_type": "code",
   "execution_count": null,
   "metadata": {},
   "outputs": [],
   "source": []
  },
  {
   "cell_type": "code",
   "execution_count": 68,
   "metadata": {},
   "outputs": [
    {
     "name": "stdout",
     "output_type": "stream",
     "text": [
      "Data Preprocessing\n",
      "Loading sample file 'DATA_2022-05-13_Josh_0001_3_1652400625'\n",
      "Loaded 1924764 samples\n",
      "Downsampling @ n=100\n",
      "Downsampled to 19247 samples\n",
      "Loading event file 'DATA_2022-05-13_Josh_0001_3_1652400625'\n",
      "Loaded 52 events\n",
      "Merging samples and events\n",
      "Transforming data into individual sequences...\n",
      "Transformed into 19047 sequences of size 200\n",
      "Loaded and preprocessed file data in 6.05s\n",
      "\n",
      "Loading sample file 'DATA_2022-05-13_Josh_0001_4_1652401267'\n",
      "Loaded 2180967 samples\n",
      "Downsampling @ n=100\n",
      "Downsampled to 21809 samples\n",
      "Loading event file 'DATA_2022-05-13_Josh_0001_4_1652401267'\n",
      "Loaded 53 events\n",
      "Merging samples and events\n",
      "Transforming data into individual sequences...\n",
      "Transformed into 21609 sequences of size 200\n",
      "Loaded and preprocessed file data in 6.80s\n",
      "\n",
      "Loading sample file 'DATA_2022-05-13_Josh_0001_5_1652405337'\n",
      "Loaded 2466785 samples\n",
      "Downsampling @ n=100\n",
      "Downsampled to 24667 samples\n",
      "Loading event file 'DATA_2022-05-13_Josh_0001_5_1652405337'\n",
      "Loaded 63 events\n",
      "Merging samples and events\n",
      "Transforming data into individual sequences...\n",
      "Transformed into 24467 sequences of size 200\n",
      "Loaded and preprocessed file data in 7.69s\n",
      "\n"
     ]
    }
   ],
   "source": [
    "print(\"Data Preprocessing\")\n",
    "files_data_all = []\n",
    "files_labels_all = []\n",
    "\n",
    "for file_name in FILE_NAMES_ALL:\n",
    "    start_time = time.time()\n",
    "\n",
    "    print(f\"Loading sample file '{file_name}'\")\n",
    "    samples_df = load_sample_data(SAMPLES_PATH + file_name)\n",
    "    print(f\"Loaded {len(samples_df)} samples\")\n",
    "    \n",
    "    print(f\"Downsampling @ n={DOWNSAMPLE_RATE}\")\n",
    "    samples_df = data_downsample(samples_df, n=DOWNSAMPLE_RATE)\n",
    "    print(f\"Downsampled to {len(samples_df)} samples\")\n",
    "\n",
    "    print(f\"Loading event file '{file_name}'\")\n",
    "    events_df = load_event_data(\n",
    "        file_path = EVENTS_PATH + file_name,\n",
    "        event_id_map = EVENT_ID_MAP,\n",
    "        event_color_map = EVENT_COLOR_MAP,\n",
    "    )\n",
    "    print(f\"Loaded {len(events_df)} events\")\n",
    "\n",
    "    print(f\"Merging samples and events\")\n",
    "    merge_df = merge_samples_events(\n",
    "        samples_df, events_df,\n",
    "        event_start = EVENT_START,\n",
    "        event_end = EVENT_END,\n",
    "        event_id_map = EVENT_ID_MAP,\n",
    "        event_color_map = EVENT_COLOR_MAP,\n",
    "    )\n",
    "#     print(\"Merge complete\")\n",
    "\n",
    "    # Segment data for ML model input\n",
    "    seq_data, seq_labels = data_segmentation(\n",
    "        merge_df,\n",
    "        event_sample_count=EVENT_SAMPLE_COUNT,\n",
    "        filter_data=FILTER_DATA,\n",
    "    )\n",
    "\n",
    "    # Apply filters before we do the normalisation\n",
    "    # One reason is that mains 50Hz will increase std for that sample\n",
    "    if FILTER_DATA:\n",
    "        for i,seq in enumerate(seq_data):\n",
    "            seq_data[i] = data_filter(seq, cutOff=FILTER_CUTOFF, Fs=100) # Account for downsampling\n",
    "\n",
    "    # Normalise relative to the 2 second interval\n",
    "    # Note that this method will scale non-actions to have large magnitudes\n",
    "    if NORMALISE_DATA:\n",
    "        for i,seq in enumerate(seq_data):\n",
    "            seq_data[i] = data_normalise(seq)\n",
    "\n",
    "    files_data_all.append(seq_data)\n",
    "    files_labels_all.append(seq_labels)\n",
    "\n",
    "    print(f\"Loaded and preprocessed file data in {time.time()-start_time:.2f}s\")\n",
    "    print(\"\")"
   ]
  },
  {
   "cell_type": "code",
   "execution_count": null,
   "metadata": {},
   "outputs": [],
   "source": []
  },
  {
   "cell_type": "code",
   "execution_count": null,
   "metadata": {},
   "outputs": [],
   "source": []
  },
  {
   "cell_type": "code",
   "execution_count": null,
   "metadata": {},
   "outputs": [],
   "source": []
  },
  {
   "cell_type": "markdown",
   "metadata": {
    "id": "2RNgpn2dpFGW"
   },
   "source": [
    "### 3.3. Models"
   ]
  },
  {
   "cell_type": "code",
   "execution_count": 69,
   "metadata": {},
   "outputs": [
    {
     "name": "stdout",
     "output_type": "stream",
     "text": [
      "Model: \"sequential_4\"\n",
      "_________________________________________________________________\n",
      " Layer (type)                Output Shape              Param #   \n",
      "=================================================================\n",
      " flatten_4 (Flatten)         (None, 200)               0         \n",
      "                                                                 \n",
      " dropout_4 (Dropout)         (None, 200)               0         \n",
      "                                                                 \n",
      " dense_12 (Dense)            (None, 64)                12864     \n",
      "                                                                 \n",
      " dense_13 (Dense)            (None, 16)                1040      \n",
      "                                                                 \n",
      " dense_14 (Dense)            (None, 4)                 68        \n",
      "                                                                 \n",
      "=================================================================\n",
      "Total params: 13,972\n",
      "Trainable params: 13,972\n",
      "Non-trainable params: 0\n",
      "_________________________________________________________________\n"
     ]
    }
   ],
   "source": [
    "import tensorflow as tf\n",
    "\n",
    "def get_model_ann():\n",
    "    model = tf.keras.Sequential([\n",
    "        tf.keras.layers.Flatten(input_shape=INPUT_SHAPE),\n",
    "        tf.keras.layers.Dropout(.50, input_shape=INPUT_SHAPE),\n",
    "        tf.keras.layers.Dense(64, activation='relu'),\n",
    "        tf.keras.layers.Dense(16, activation='relu'),\n",
    "        tf.keras.layers.Dense(OUTPUT_SHAPE)\n",
    "    ])\n",
    "    return model\n",
    "get_model_ann().summary()"
   ]
  },
  {
   "cell_type": "markdown",
   "metadata": {},
   "source": [
    "#### 3.3.2. SVM"
   ]
  },
  {
   "cell_type": "code",
   "execution_count": 70,
   "metadata": {},
   "outputs": [],
   "source": [
    "from sklearn import svm\n",
    "\n",
    "def get_model_svm():\n",
    "    clf = svm.SVC()\n",
    "    return clf"
   ]
  },
  {
   "cell_type": "markdown",
   "metadata": {},
   "source": [
    "#### 3.3.3 Random Forest"
   ]
  },
  {
   "cell_type": "code",
   "execution_count": 71,
   "metadata": {},
   "outputs": [],
   "source": [
    "from xgboost import XGBRFClassifier\n",
    "\n",
    "# Hyper-Parameters\n",
    "RF_N_TREES = [10,50,100,500,1000,5000]\n",
    "RF_N_FEATURES = [x for x in np.arange(0.1, 1.1, 0.1)]\n",
    "\n",
    "def get_model_rf(num_trees=50, num_features=0.1):\n",
    "    return XGBRFClassifier(\n",
    "        n_estimators=num_trees,\n",
    "        subsample=0.9,\n",
    "        colsample_bynode=num_features\n",
    "    )"
   ]
  },
  {
   "cell_type": "markdown",
   "metadata": {
    "id": "SGYMbnF6pFJQ"
   },
   "source": [
    "### 3.4. Evaluation Strategy"
   ]
  },
  {
   "cell_type": "code",
   "execution_count": 72,
   "metadata": {},
   "outputs": [],
   "source": [
    "ANN_EPOCHS = 3\n",
    "ANN_OPTIMIZER = 'adam'\n",
    "\n",
    "def train_model_ann(model, train_data, train_labels, test_data, test_labels):\n",
    "    print(\"Training ANN with\", len(train_labels), \"samples\")\n",
    "    start_time = time.time()\n",
    "    \n",
    "    # Trains model and returns history dict\n",
    "    model.compile(\n",
    "        optimizer=ANN_OPTIMIZER,\n",
    "        loss=tf.keras.losses.SparseCategoricalCrossentropy(from_logits=True),\n",
    "        metrics=['accuracy']\n",
    "    )\n",
    "    history = model.fit(\n",
    "        train_data,\n",
    "        train_labels,\n",
    "        epochs=ANN_EPOCHS,\n",
    "        validation_data=(test_data, test_labels)\n",
    "    #     batch_size=16\n",
    "    )\n",
    "\n",
    "    print(f\"Completed training ANN in {time.time()-start_time:.2f}s\")\n",
    "\n",
    "    print(f\"Generating predictions for test set\", len(test_labels))\n",
    "    start_time = time.time()\n",
    "    \n",
    "    test_out = model.predict(test_data)\n",
    "    test_probs = tf.nn.softmax(test_out, axis=1)\n",
    "    test_pred = np.argmax(test_probs, axis=1)\n",
    "    \n",
    "    print(f\"Generated predictions in {time.time()-start_time:.2f}s\")\n",
    "\n",
    "    # Return predictions for test set\n",
    "    return test_pred"
   ]
  },
  {
   "cell_type": "code",
   "execution_count": 73,
   "metadata": {},
   "outputs": [],
   "source": [
    "def train_model_svm(model, train_data, train_labels, test_data, test_labels):\n",
    "    subset = np.random.random(len(train_data)) < 0.1\n",
    "    print(\"Training SVM with\", sum(subset), \"samples\")\n",
    "    start_time = time.time()\n",
    "    \n",
    "    model.fit(train_data[subset], train_labels[subset])\n",
    "    \n",
    "    print(f\"Completed training SVM in {time.time()-start_time:.2f}s\")\n",
    "\n",
    "    print(f\"Generating predictions for test set\", len(test_labels))\n",
    "    start_time = time.time()\n",
    "    \n",
    "    test_pred = model.predict(test_data)\n",
    "\n",
    "    print(f\"Generated predictions in {time.time()-start_time:.2f}s\")\n",
    "    \n",
    "    # Return predictions for test set\n",
    "    return test_pred"
   ]
  },
  {
   "cell_type": "code",
   "execution_count": 74,
   "metadata": {},
   "outputs": [],
   "source": [
    "# Random Forest Training and Testing\n",
    "def train_model_xgbrf(model, train_data, train_labels, test_data, test_labels):\n",
    "    print(\"Training XGBRandomForest with\", len(train_data), \"samples\")\n",
    "    start_time = time.time()\n",
    "    \n",
    "    model.fit(train_data, train_labels)\n",
    "    \n",
    "    print(f\"Completed training XGBRandomForest in {time.time()-start_time:.2f}s\")\n",
    "    \n",
    "    print(f\"Generating predictions for test set\", len(test_labels))\n",
    "    \n",
    "    start_time = time.time()\n",
    "    \n",
    "    test_pred = model.predict(test_data)\n",
    "    \n",
    "    print(f\"Generated predictions in {time.time()-start_time:.2f}s\")\n",
    "\n",
    "    # Return predictions for test set\n",
    "    return test_pred"
   ]
  },
  {
   "cell_type": "code",
   "execution_count": 75,
   "metadata": {},
   "outputs": [],
   "source": [
    "def confusion_matrix(label_pred, label_true):\n",
    "    # Rows are \"real\" labels\n",
    "    # Columns are \"predicted\" labels\n",
    "    conf = tf.math.confusion_matrix(\n",
    "        label_pred,\n",
    "        label_true\n",
    "    )\n",
    "\n",
    "    return conf"
   ]
  },
  {
   "cell_type": "code",
   "execution_count": 76,
   "metadata": {},
   "outputs": [
    {
     "name": "stdout",
     "output_type": "stream",
     "text": [
      "Fold #1/3\n",
      "(46076, 200) (46076,)\n",
      "(19047, 200) (19047,)\n",
      "Training ANN with 46076 samples\n",
      "Epoch 1/3\n",
      "1440/1440 [==============================] - 2s 1ms/step - loss: 0.2456 - accuracy: 0.9078 - val_loss: 0.2035 - val_accuracy: 0.9332\n",
      "Epoch 2/3\n",
      "1440/1440 [==============================] - 2s 1ms/step - loss: 0.1480 - accuracy: 0.9442 - val_loss: 0.1663 - val_accuracy: 0.9457\n",
      "Epoch 3/3\n",
      "1440/1440 [==============================] - 2s 1ms/step - loss: 0.1257 - accuracy: 0.9526 - val_loss: 0.1815 - val_accuracy: 0.9388\n",
      "Completed training ANN in 5.51s\n",
      "Generating predictions for test set 19047\n",
      "Generated predictions in 0.31s\n",
      "Training SVM with 4708 samples\n",
      "Completed training SVM in 0.87s\n",
      "Generating predictions for test set 10000\n",
      "Generated predictions in 2.54s\n",
      "Training XGBRandomForest with 46076 samples\n",
      "Completed training XGBRandomForest in 3.05s\n",
      "Generating predictions for test set 19047\n",
      "Generated predictions in 0.01s\n",
      "Done fold in 12.37s\n",
      "\n",
      "Fold #2/3\n",
      "(43514, 200) (43514,)\n",
      "(21609, 200) (21609,)\n",
      "Training ANN with 43514 samples\n",
      "Epoch 1/3\n",
      "1360/1360 [==============================] - 2s 1ms/step - loss: 0.2318 - accuracy: 0.9147 - val_loss: 0.1909 - val_accuracy: 0.9289\n",
      "Epoch 2/3\n",
      "1360/1360 [==============================] - 2s 1ms/step - loss: 0.1383 - accuracy: 0.9486 - val_loss: 0.1639 - val_accuracy: 0.9434\n",
      "Epoch 3/3\n",
      "1360/1360 [==============================] - 2s 1ms/step - loss: 0.1157 - accuracy: 0.9557 - val_loss: 0.1594 - val_accuracy: 0.9477\n",
      "Completed training ANN in 5.55s\n",
      "Generating predictions for test set 21609\n",
      "Generated predictions in 0.41s\n",
      "Training SVM with 4331 samples\n",
      "Completed training SVM in 0.77s\n",
      "Generating predictions for test set 10000\n",
      "Generated predictions in 2.48s\n",
      "Training XGBRandomForest with 43514 samples\n",
      "Completed training XGBRandomForest in 2.68s\n",
      "Generating predictions for test set 21609\n",
      "Generated predictions in 0.01s\n",
      "Done fold in 11.99s\n",
      "\n",
      "Fold #3/3\n",
      "(40656, 200) (40656,)\n",
      "(24467, 200) (24467,)\n",
      "Training ANN with 40656 samples\n",
      "Epoch 1/3\n",
      "1271/1271 [==============================] - 2s 1ms/step - loss: 0.2281 - accuracy: 0.9199 - val_loss: 0.2058 - val_accuracy: 0.9272\n",
      "Epoch 2/3\n",
      "1271/1271 [==============================] - 2s 1ms/step - loss: 0.1359 - accuracy: 0.9485 - val_loss: 0.1806 - val_accuracy: 0.9337\n",
      "Epoch 3/3\n",
      "1271/1271 [==============================] - 2s 1ms/step - loss: 0.1162 - accuracy: 0.9552 - val_loss: 0.1623 - val_accuracy: 0.9420\n",
      "Completed training ANN in 5.30s\n",
      "Generating predictions for test set 24467\n",
      "Generated predictions in 0.41s\n",
      "Training SVM with 4108 samples\n",
      "Completed training SVM in 0.67s\n",
      "Generating predictions for test set 10000\n",
      "Generated predictions in 2.31s\n",
      "Training XGBRandomForest with 40656 samples\n",
      "Completed training XGBRandomForest in 2.20s\n",
      "Generating predictions for test set 24467\n",
      "Generated predictions in 0.01s\n",
      "Done fold in 10.98s\n",
      "\n"
     ]
    }
   ],
   "source": [
    "CV_K = len(FILE_NAMES_ALL)\n",
    "\n",
    "cv_conf_ann = []\n",
    "cv_conf_svm = []\n",
    "cv_conf_rf = []\n",
    "\n",
    "for k in range(CV_K):\n",
    "    print(f\"Fold #{k+1}/{CV_K}\")\n",
    "    start_time = time.time()\n",
    "    \n",
    "    # Get training data/labels\n",
    "    train_data = np.concatenate(files_data_all[0:k] + files_data_all[k+1:])\n",
    "    train_labels = np.concatenate(files_labels_all[0:k] + files_labels_all[k+1:])\n",
    "    print(train_data.shape, train_labels.shape)\n",
    "    \n",
    "    test_data = files_data_all[k]\n",
    "    test_labels = files_labels_all[k]\n",
    "    print(test_data.shape, test_labels.shape)\n",
    "\n",
    "    # Train and test ANN\n",
    "    model_ann = get_model_ann()\n",
    "    test_pred_ann = train_model_ann(model_ann, train_data, train_labels, test_data, test_labels)\n",
    "    conf_ann = confusion_matrix(test_pred_ann, test_labels)\n",
    "    cv_conf_ann.append(conf_ann)\n",
    "    \n",
    "    # Train and test SVM\n",
    "    model_svm = get_model_svm()\n",
    "    test_pred_svm = train_model_svm(model_svm, train_data, train_labels, test_data[:10000], test_labels[:10000])\n",
    "    conf_svm = confusion_matrix(test_pred_svm, test_labels[:10000])\n",
    "    cv_conf_svm.append(conf_svm)\n",
    "    \n",
    "    # Train and Test XGBRandomForest\n",
    "    model_xgbrf = get_model_rf()\n",
    "    test_pred_xgbrf = train_model_xgbrf(model_xgbrf, train_data, train_labels, test_data, test_labels)\n",
    "    conf_xgbrf = confusion_matrix(test_pred_xgbrf, test_labels)\n",
    "    cv_conf_rf.append(conf_xgbrf)\n",
    "\n",
    "    print(f\"Done fold in {time.time() - start_time:.2f}s\\n\")"
   ]
  },
  {
   "cell_type": "code",
   "execution_count": 78,
   "metadata": {},
   "outputs": [
    {
     "name": "stdout",
     "output_type": "stream",
     "text": [
      "[<tf.Tensor: shape=(4, 4), dtype=int32, numpy=\n",
      "array([[16047,   420,    93,   216],\n",
      "       [   77,   313,     0,    24],\n",
      "       [  239,     0,   809,     0],\n",
      "       [   79,    17,     0,   713]], dtype=int32)>, <tf.Tensor: shape=(4, 4), dtype=int32, numpy=\n",
      "array([[18374,   183,   167,   174],\n",
      "       [  336,  1019,     0,     8],\n",
      "       [  191,     0,   482,     0],\n",
      "       [   72,     0,     0,   603]], dtype=int32)>, <tf.Tensor: shape=(4, 4), dtype=int32, numpy=\n",
      "array([[20843,   241,   192,   381],\n",
      "       [  191,   644,     0,    69],\n",
      "       [  233,     0,  1261,     0],\n",
      "       [   44,    67,     0,   301]], dtype=int32)>]\n",
      "[<tf.Tensor: shape=(4, 4), dtype=int32, numpy=\n",
      "array([[8609,  167,   74,  281],\n",
      "       [   7,  128,    0,    0],\n",
      "       [  80,    0,  477,    0],\n",
      "       [   1,    5,    0,  171]], dtype=int32)>, <tf.Tensor: shape=(4, 4), dtype=int32, numpy=\n",
      "array([[8617,  135,  106,   73],\n",
      "       [  99,  317,    0,    0],\n",
      "       [  65,    0,  293,    0],\n",
      "       [  17,    0,    0,  278]], dtype=int32)>, <tf.Tensor: shape=(4, 4), dtype=int32, numpy=\n",
      "array([[8636,  270,  120,  109],\n",
      "       [   9,  278,    0,   11],\n",
      "       [  43,    0,  431,    0],\n",
      "       [  10,    2,    0,   81]], dtype=int32)>]\n",
      "[<tf.Tensor: shape=(4, 4), dtype=int32, numpy=\n",
      "array([[16289,   504,   182,   415],\n",
      "       [   22,   186,     0,     0],\n",
      "       [  105,     0,   720,     0],\n",
      "       [   26,    60,     0,   538]], dtype=int32)>, <tf.Tensor: shape=(4, 4), dtype=int32, numpy=\n",
      "array([[18690,   321,   207,   194],\n",
      "       [  153,   881,     0,     0],\n",
      "       [   71,     0,   435,     0],\n",
      "       [   59,     0,     7,   591]], dtype=int32)>, <tf.Tensor: shape=(4, 4), dtype=int32, numpy=\n",
      "array([[21164,   424,   268,   447],\n",
      "       [   39,   499,     0,    16],\n",
      "       [  104,     0,  1185,     0],\n",
      "       [    4,    29,     0,   288]], dtype=int32)>]\n"
     ]
    }
   ],
   "source": [
    "print(cv_conf_ann)\n",
    "print(cv_conf_svm)\n",
    "print(cv_conf_rf)"
   ]
  },
  {
   "cell_type": "markdown",
   "metadata": {
    "id": "T2YPuEpSrTrv"
   },
   "source": [
    "## 4. Results"
   ]
  },
  {
   "cell_type": "markdown",
   "metadata": {
    "id": "MxCTdo0_rTuH"
   },
   "source": [
    "### 4.1. Part A"
   ]
  },
  {
   "cell_type": "code",
   "execution_count": 79,
   "metadata": {},
   "outputs": [],
   "source": [
    "def print_confusion_matrix(conf):\n",
    "    print(conf)\n",
    "    \n",
    "    overall_total = sum(sum(conf))\n",
    "    overall_correct = sum([conf[i][i] for i in range(len(conf))])\n",
    "    print(f\"Overall accuracy: {100*overall_correct/overall_total:.2f}% ({overall_correct}/{overall_total})\")\n",
    "    \n",
    "    fp = sum(conf[0][1:])\n",
    "    tp = sum(sum(conf[1:]))\n",
    "    print(f\"False positives {fp}\")\n",
    "    print(f\"True positives {tp}\")\n",
    "    print(f\"False discovery (fp/(tp+fp)): {fp/(fp+tp):.4f} ({fp}/{fp+tp})\")\n",
    "    \n",
    "    for i in range(len(conf)):\n",
    "        letter = str(EVENT_ID_LETTER_MAP[i])[0]\n",
    "        \n",
    "        total = sum(conf[i])\n",
    "        correct = conf[i][i]\n",
    "        acc_total = 100*correct/total\n",
    "        \n",
    "        s = f\"Event {letter} ({i}) accuracy: {correct:6}/{total: <6} (t_acc {acc_total:5.2f}%)\"\n",
    "        if i > 0:\n",
    "            acc_event = 100*correct/(total - conf[i][0])\n",
    "            s += f\" (e_acc {acc_event:5.2f}%)\"\n",
    "        print(s)\n",
    "        \n",
    "    print(\"\")\n",
    "        \n",
    "    return conf"
   ]
  },
  {
   "cell_type": "code",
   "execution_count": 80,
   "metadata": {},
   "outputs": [
    {
     "name": "stdout",
     "output_type": "stream",
     "text": [
      "[[55264   844   452   771]\n",
      " [  604  1976     0   101]\n",
      " [  663     0  2552     0]\n",
      " [  195    84     0  1617]]\n",
      "Overall accuracy: 94.30% (61409/65123)\n",
      "False positives 2067\n",
      "True positives 7792\n",
      "False discovery (fp/(tp+fp)): 0.2097 (2067/9859)\n",
      "Event N (0) accuracy:  55264/57331  (t_acc 96.39%)\n",
      "Event L (1) accuracy:   1976/2681   (t_acc 73.70%) (e_acc 95.14%)\n",
      "Event R (2) accuracy:   2552/3215   (t_acc 79.38%) (e_acc 100.00%)\n",
      "Event S (3) accuracy:   1617/1896   (t_acc 85.28%) (e_acc 95.06%)\n",
      "\n",
      "[[25862   572   300   463]\n",
      " [  115   723     0    11]\n",
      " [  188     0  1201     0]\n",
      " [   28     7     0   530]]\n",
      "Overall accuracy: 94.39% (28316/30000)\n",
      "False positives 1335\n",
      "True positives 2803\n",
      "False discovery (fp/(tp+fp)): 0.3226 (1335/4138)\n",
      "Event N (0) accuracy:  25862/27197  (t_acc 95.09%)\n",
      "Event L (1) accuracy:    723/849    (t_acc 85.16%) (e_acc 98.50%)\n",
      "Event R (2) accuracy:   1201/1389   (t_acc 86.47%) (e_acc 100.00%)\n",
      "Event S (3) accuracy:    530/565    (t_acc 93.81%) (e_acc 98.70%)\n",
      "\n",
      "[[56143  1249   657  1056]\n",
      " [  214  1566     0    16]\n",
      " [  280     0  2340     0]\n",
      " [   89    89     7  1417]]\n",
      "Overall accuracy: 94.38% (61466/65123)\n",
      "False positives 2962\n",
      "True positives 6018\n",
      "False discovery (fp/(tp+fp)): 0.3298 (2962/8980)\n",
      "Event N (0) accuracy:  56143/59105  (t_acc 94.99%)\n",
      "Event L (1) accuracy:   1566/1796   (t_acc 87.19%) (e_acc 98.99%)\n",
      "Event R (2) accuracy:   2340/2620   (t_acc 89.31%) (e_acc 100.00%)\n",
      "Event S (3) accuracy:   1417/1602   (t_acc 88.45%) (e_acc 93.65%)\n",
      "\n"
     ]
    },
    {
     "data": {
      "text/plain": [
       "array([[56143,  1249,   657,  1056],\n",
       "       [  214,  1566,     0,    16],\n",
       "       [  280,     0,  2340,     0],\n",
       "       [   89,    89,     7,  1417]])"
      ]
     },
     "execution_count": 80,
     "metadata": {},
     "output_type": "execute_result"
    }
   ],
   "source": [
    "total_conf_ann = np.sum(cv_conf_ann, axis=0)\n",
    "print_confusion_matrix(total_conf_ann)\n",
    "\n",
    "total_conf_svm = np.sum(cv_conf_svm, axis=0)\n",
    "print_confusion_matrix(total_conf_svm)\n",
    "\n",
    "total_conf_rf = np.sum(cv_conf_rf, axis=0)\n",
    "print_confusion_matrix(total_conf_rf)"
   ]
  },
  {
   "cell_type": "code",
   "execution_count": 50,
   "metadata": {},
   "outputs": [
    {
     "name": "stderr",
     "output_type": "stream",
     "text": [
      "/tmp/ipykernel_3358914/3143771308.py:16: UserWarning: FixedFormatter should only be used together with FixedLocator\n",
      "  ax.xaxis.set_ticklabels(['No Event', 'Left', 'Right', 'Double Blink'])\n",
      "/tmp/ipykernel_3358914/3143771308.py:17: UserWarning: FixedFormatter should only be used together with FixedLocator\n",
      "  ax.yaxis.set_ticklabels(['No Event', 'Left', 'Right', 'Double Blink'], rotation=0)\n"
     ]
    },
    {
     "data": {
      "image/png": "[encoded data removed]",
      "text/plain": [
       "<Figure size 1440x720 with 10 Axes>"
      ]
     },
     "metadata": {
      "needs_background": "light"
     },
     "output_type": "display_data"
    }
   ],
   "source": [
    "def plotConfMatrix2(models, model_names):\n",
    "    fig = plt.figure(figsize=(20,10))\n",
    "    plt.subplots_adjust(wspace=0.1, hspace=0.05)\n",
    "    gs = fig.add_gridspec(2,3)\n",
    "    \n",
    "    # Normalize plots\n",
    "    for index, model in enumerate(models):\n",
    "        normalize = np.sum(model, axis=1)\n",
    "        model = model/normalize.reshape(-1,1)\n",
    "        ax = fig.add_subplot(gs[0, index])\n",
    "        s = sns.heatmap(model, annot=True, cmap='Blues', ax=fig.add_subplot(gs[0,index]), \n",
    "                        xticklabels=['No Event', 'Left', 'Right', 'Double Blink'], \n",
    "                        yticklabels=['No Event', 'Left', 'Right', 'Double Blink'])\n",
    "        s.set(xlabel='Predicted', ylabel='Actual')\n",
    "        ax.set_title(f'{model_names[index]} CV Normalized Confusion Matrix')\n",
    "        ax.xaxis.set_ticklabels(['No Event', 'Left', 'Right', 'Double Blink'])\n",
    "        ax.yaxis.set_ticklabels(['No Event', 'Left', 'Right', 'Double Blink'], rotation=0)\n",
    "        ax.axis('off')\n",
    "        ax.axis('tight')\n",
    "\n",
    "    ax = fig.add_subplot(gs[1,:])\n",
    "    columns = ('Metrics', 'ANN', 'SVM', 'RF')\n",
    "\n",
    "    row_labels = [\n",
    "        \"Accuracy\",\n",
    "        \"B\",\n",
    "        \"C\",\n",
    "        \"D\",\n",
    "        \"E\",\n",
    "        \"F\",\n",
    "        \"G\",\n",
    "        \"H\",\n",
    "        \"I\",\n",
    "        \"J\"\n",
    "    ]\n",
    "\n",
    "    data = []\n",
    "    for i in range(10):\n",
    "        data.append([f\"{3.53242424:.2f}\", f\"{3.53242424:.2f}\", f\"{3.53242424:.2f}\"])\n",
    "#     data = np.random.random((10,3)) #Insert data for all of the columns as array \n",
    "\n",
    "    table = ax.table(cellText=data, colLabels=columns, rowLabels=row_labels, loc='center')\n",
    "    \n",
    "    table.auto_set_font_size(False)\n",
    "    table.set_fontsize(20) \n",
    "    table.scale(0.5, 2)\n",
    "    \n",
    "    ax.axis('tight')\n",
    "    ax.axis('off')\n",
    "    fig.tight_layout()\n",
    "    \n",
    "    plt.show()\n",
    "\n",
    "\n",
    "plotConfMatrix2(\n",
    "    [total_conf_ann, total_conf_svm, total_conf_rf],\n",
    "    ['ANN', 'SVM', 'RF']\n",
    ")"
   ]
  },
  {
   "cell_type": "markdown",
   "metadata": {
    "id": "j9z3anWmrTwe"
   },
   "source": [
    "### 4.2. Part B"
   ]
  },
  {
   "cell_type": "markdown",
   "metadata": {
    "id": "HKFJra9urTyp"
   },
   "source": [
    "## 5. Discussion and Conclusion"
   ]
  },
  {
   "cell_type": "markdown",
   "metadata": {
    "id": "-sb2q5DyrnY_"
   },
   "source": [
    "### 5.1. Issues Addressed"
   ]
  },
  {
   "cell_type": "markdown",
   "metadata": {
    "id": "G5Abg6FlrnbR"
   },
   "source": [
    "### 5.2. Conclusion"
   ]
  },
  {
   "cell_type": "markdown",
   "metadata": {
    "id": "TGVcADPHrnd5"
   },
   "source": [
    "## 6. Student Contribution"
   ]
  },
  {
   "cell_type": "markdown",
   "metadata": {
    "id": "X0X4cmXHrngc"
   },
   "source": [
    "### 6.1. Matty"
   ]
  },
  {
   "cell_type": "markdown",
   "metadata": {
    "id": "Bafpxraprni8"
   },
   "source": [
    "### 6.2. Ashwin"
   ]
  },
  {
   "cell_type": "markdown",
   "metadata": {
    "id": "8zjRi9i3r9nn"
   },
   "source": [
    "### 6.3. Marcus"
   ]
  },
  {
   "cell_type": "markdown",
   "metadata": {
    "id": "ZaTrmwj7r9qK"
   },
   "source": [
    "### 6.4. Alex"
   ]
  },
  {
   "cell_type": "markdown",
   "metadata": {
    "id": "6HS1Q0Pxr9sZ"
   },
   "source": [
    "### 6.5. Jingyu"
   ]
  },
  {
   "cell_type": "markdown",
   "metadata": {
    "id": "6ukHvavmr9ui"
   },
   "source": [
    "### 6.9. Josh\n"
   ]
  },
  {
   "cell_type": "markdown",
   "metadata": {
    "id": "7bZM8plir9xL"
   },
   "source": []
  },
  {
   "cell_type": "markdown",
   "metadata": {
    "id": "8q57R1Hkr9zj"
   },
   "source": []
  },
  {
   "cell_type": "markdown",
   "metadata": {
    "id": "pjMRmECbr92D"
   },
   "source": []
  },
  {
   "cell_type": "markdown",
   "metadata": {
    "id": "3BoyYYZyr94d"
   },
   "source": []
  },
  {
   "cell_type": "markdown",
   "metadata": {
    "id": "Paog5ZoCr97E"
   },
   "source": []
  },
  {
   "cell_type": "markdown",
   "metadata": {
    "id": "5pd0gRmUr99z"
   },
   "source": []
  },
  {
   "cell_type": "markdown",
   "metadata": {
    "id": "CkXy1VyMr-BO"
   },
   "source": []
  },
  {
   "cell_type": "markdown",
   "metadata": {
    "id": "A02CJpxarnld"
   },
   "source": []
  },
  {
   "cell_type": "markdown",
   "metadata": {
    "id": "OjUMV1vkrnoP"
   },
   "source": []
  }
 ],
 "metadata": {
  "colab": {
   "collapsed_sections": [],
   "name": "Final Report.ipynb",
   "provenance": []
  },
  "kernelspec": {
   "display_name": "Python 3 (ipykernel)",
   "language": "python",
   "name": "python3"
  },
  "language_info": {
   "codemirror_mode": {
    "name": "ipython",
    "version": 3
   },
   "file_extension": ".py",
   "mimetype": "text/x-python",
   "name": "python",
   "nbconvert_exporter": "python",
   "pygments_lexer": "ipython3",
   "version": "3.10.4"
  }
 },
 "nbformat": 4,
 "nbformat_minor": 1
}
