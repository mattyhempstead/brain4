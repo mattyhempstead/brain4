{
 "cells": [
  {
   "cell_type": "code",
   "execution_count": 1,
   "id": "f1884fdd",
   "metadata": {},
   "outputs": [],
   "source": [
    "import numpy as np\n",
    "import pandas as pd\n",
    "import wave\n",
    "import math\n",
    "\n"
   ]
  },
  {
   "cell_type": "code",
   "execution_count": 2,
   "id": "0206b040",
   "metadata": {},
   "outputs": [],
   "source": [
    "# Matplotlib stuff \n",
    "\n",
    "import matplotlib as mpl\n",
    "mpl.rcParams['figure.figsize'] = [18, 12]\n",
    "mpl.rcParams['figure.dpi'] = 72\n",
    "\n",
    "params = {\"ytick.color\" : \"w\",\n",
    "          \"xtick.color\" : \"w\",\n",
    "          \"axes.labelcolor\" : \"w\",\n",
    "          \"axes.edgecolor\" : \"w\"}\n",
    "mpl.rcParams.update(params)\n",
    "\n",
    "\n",
    "import matplotlib.pyplot as plt"
   ]
  },
  {
   "cell_type": "code",
   "execution_count": 3,
   "id": "945d9178",
   "metadata": {},
   "outputs": [
    {
     "name": "stdout",
     "output_type": "stream",
     "text": [
      "<wave.Wave_read object at 0x7f80c89d06d0>\n",
      "Sample rate: 10000 samples/sec\n",
      "Sample size: 2 bytes\n",
      "No. channels: 1\n",
      "_wave_params(nchannels=1, sampwidth=2, framerate=10000, nframes=1878295, comptype='NONE', compname='not compressed')\n",
      "1878295\n",
      "[-113 -116 -119 ...  126  122  118]\n",
      "    sample  time_sec\n",
      "0     -113    0.0000\n",
      "1     -116    0.0001\n",
      "2     -119    0.0002\n",
      "3     -122    0.0003\n",
      "4     -124    0.0004\n",
      "5     -126    0.0005\n",
      "6     -129    0.0006\n",
      "7     -132    0.0007\n",
      "8     -134    0.0008\n",
      "9     -137    0.0009\n",
      "10    -138    0.0010\n",
      "11    -141    0.0011\n",
      "12    -143    0.0012\n",
      "13    -145    0.0013\n",
      "14    -148    0.0014\n",
      "15    -149    0.0015\n",
      "16    -151    0.0016\n",
      "17    -153    0.0017\n",
      "18    -155    0.0018\n",
      "19    -157    0.0019\n"
     ]
    }
   ],
   "source": [
    "file_path = \"./data/DoubleBlinkLR_Alex\"\n",
    "\n",
    "obj = wave.open(f'{file_path}.wav')\n",
    "print(obj)\n",
    "\n",
    "# Sample rate (looks to be 10k samples/sec) from brainbox\n",
    "print(f\"Sample rate: {obj.getframerate()} samples/sec\")\n",
    "\n",
    "# Bytes per sample\n",
    "print(f\"Sample size: {obj.getsampwidth()} bytes\")\n",
    "\n",
    "# Bytes per sample\n",
    "print(f\"No. channels: {obj.getnchannels()}\")\n",
    "\n",
    "print(obj.getparams())\n",
    "\n",
    "\n",
    "\n",
    "wav_frames = obj.readframes(nframes=2**32)\n",
    "ys = np.frombuffer(wav_frames, dtype=np.int16)\n",
    "print(len(ys))\n",
    "print(ys)\n",
    "\n",
    "\n",
    "sample_df = pd.DataFrame({\n",
    "    \"sample\": ys,\n",
    "    \"time_sec\": np.arange(len(ys)) / obj.getframerate(),\n",
    "})\n",
    "print(sample_df[:20])\n"
   ]
  },
  {
   "cell_type": "code",
   "execution_count": 4,
   "id": "a70b1ad9",
   "metadata": {},
   "outputs": [
    {
     "name": "stdout",
     "output_type": "stream",
     "text": [
      "    event_id  time_sec event_type event_color\n",
      "0          1    9.9953       Left       green\n",
      "1          1   14.0867       Left       green\n",
      "2          2   16.7407      Right        blue\n",
      "3          2   19.5746      Right        blue\n",
      "4          1   22.6953       Left       green\n",
      "..       ...       ...        ...         ...\n",
      "70         2  173.2866      Right        blue\n",
      "71         2  175.1507      Right        blue\n",
      "72         2  177.2419      Right        blue\n",
      "73         1  179.2657       Left       green\n",
      "74         2  181.4798      Right        blue\n",
      "\n",
      "[75 rows x 4 columns]\n"
     ]
    }
   ],
   "source": [
    "\n",
    "\n",
    "events_df = pd.read_csv(\n",
    "    f\"{file_path}.txt\",\n",
    "    names=[\"event_id\", \"time_sec\"],\n",
    "    header=1\n",
    ")\n",
    "\n",
    "events_df[\"event_type\"] = events_df[\"event_id\"].map({\n",
    "    0: \"Blink\",\n",
    "    1: \"Left\",\n",
    "    2: \"Right\"\n",
    "})\n",
    "\n",
    "events_df[\"event_color\"] = events_df[\"event_type\"].map({\n",
    "    \"Blink\": \"red\",\n",
    "    \"Left\": \"green\",\n",
    "    \"Right\": \"blue\"\n",
    "})\n",
    "\n",
    "print(events_df)\n",
    "\n"
   ]
  },
  {
   "cell_type": "code",
   "execution_count": 5,
   "id": "948d24db",
   "metadata": {},
   "outputs": [
    {
     "data": {
      "image/png": "[encoded data removed]",
      "text/plain": [
       "<Figure size 432x288 with 1 Axes>"
      ]
     },
     "metadata": {
      "needs_background": "dark"
     },
     "output_type": "display_data"
    }
   ],
   "source": [
    "time_start = 0\n",
    "time_end = 30\n",
    "\n",
    "sample_df_int = sample_df[(sample_df[\"time_sec\"] >= time_start) & (sample_df[\"time_sec\"] < time_end)]\n",
    "events_df_int = events_df[(events_df[\"time_sec\"] >= time_start) & (events_df[\"time_sec\"] < time_end)]\n",
    "\n",
    "plt.plot(\n",
    "    sample_df_int[\"time_sec\"],\n",
    "    sample_df_int[\"sample\"],\n",
    "    color=\"black\"\n",
    ")\n",
    "\n",
    "for idx,row in events_df_int.iterrows():\n",
    "    plt.axvline(\n",
    "        x = row[\"time_sec\"],\n",
    "        color=row[\"event_color\"]\n",
    "    )\n",
    "    plt.axvline(\n",
    "        x = row[\"time_sec\"]+3,\n",
    "        color=\"red\"\n",
    "    )\n",
    "\n",
    "plt.show()"
   ]
  },
  {
   "cell_type": "markdown",
   "id": "aa3ef86e",
   "metadata": {},
   "source": [
    "# Classify\n",
    "\n",
    "Classify 3-second intervals.\n",
    "\n",
    "Makes sure you give it a bunch of 3-sec intervals which are NOT valid.\n",
    "I guess one method is to classify every moment as inside or outside an event. Like the start of every 3 second interval has a 500ms (1000ms?) interval where it should output the correct event type for the next 3 seconds. If not in an event type, it should output \"None\" or whatever.\n",
    "\n",
    "Stuff like involuntary blinks should be ignored.\n",
    "\n",
    "\n",
    "3s interval gives 30000 input samples.\n",
    "60 seconds gives 600000 inputs.\n",
    "\n",
    "I guess you could probs downsample via moving average and everything would be the same?\n",
    "Maybe 1/100th of a second VS 1/10000th? Gives 6000 inputs of size 300.\n",
    "\n",
    "\n",
    "Accuracy is then instead based on the full stream and not individual samples. Since the 499th should really be the same as the 500th, but thats not really feasible.\n",
    "Maybe then you could have the output be gaussian around the point of classification? Like the exact moment should output 100%, but slowly decrease as you move away.\n",
    "\n"
   ]
  },
  {
   "cell_type": "code",
   "execution_count": 7,
   "id": "f90b9f6e",
   "metadata": {},
   "outputs": [
    {
     "name": "stdout",
     "output_type": "stream",
     "text": [
      "       time_sec       sample\n",
      "0          0.00  -105.980000\n",
      "1          0.01   129.440000\n",
      "2          0.02   -33.440000\n",
      "3          0.03   116.550000\n",
      "4          0.04  -125.850000\n",
      "...         ...          ...\n",
      "18778    187.78 -1222.540000\n",
      "18779    187.79 -1108.520000\n",
      "18780    187.80  -457.560000\n",
      "18781    187.81  -466.170000\n",
      "18782    187.82    57.021053\n",
      "\n",
      "[18783 rows x 2 columns]\n"
     ]
    },
    {
     "data": {
      "image/png": "[encoded data removed]",
      "text/plain": [
       "<Figure size 432x288 with 1 Axes>"
      ]
     },
     "metadata": {
      "needs_background": "dark"
     },
     "output_type": "display_data"
    }
   ],
   "source": [
    "\n",
    "def downsample(sample_df, n=100):\n",
    "    \"\"\" Downsamples to 1/nth of a second by taking mean sample over that period. \"\"\"\n",
    "    # Downsample to 1/100th of a second \n",
    "    time_sec_n = np.floor(n*sample_df[\"time_sec\"]) / n\n",
    "\n",
    "    sample_n_df = pd.DataFrame({\n",
    "        \"time_sec\": list(sample_df.groupby(time_sec_n)[\"time_sec\"].min()),\n",
    "        \"sample\": list(sample_df.groupby(time_sec_n)[\"sample\"].mean()),\n",
    "    })\n",
    "\n",
    "    return sample_n_df\n",
    "\n",
    "\n",
    "\n",
    "sample_100_df = downsample(sample_df, n=100)\n",
    "print(sample_100_df)\n",
    "\n",
    "\n",
    "time_start = 0\n",
    "time_end = 30\n",
    "\n",
    "sample_df_int = sample_100_df[(sample_100_df[\"time_sec\"] >= time_start) & (sample_100_df[\"time_sec\"] < time_end)]\n",
    "events_df_int = events_df[(events_df[\"time_sec\"] >= time_start) & (events_df[\"time_sec\"] < time_end)]\n",
    "\n",
    "plt.plot(\n",
    "    sample_df_int[\"time_sec\"],\n",
    "    sample_df_int[\"sample\"],\n",
    "    color=\"black\"\n",
    ")\n",
    "\n",
    "for idx,row in events_df_int.iterrows():\n",
    "    plt.axvline(\n",
    "        x = row[\"time_sec\"],\n",
    "        color=row[\"event_color\"]\n",
    "    )\n",
    "    plt.axvline(\n",
    "        x = row[\"time_sec\"]+3,\n",
    "        color=\"red\"\n",
    "    )\n",
    "\n",
    "plt.show()\n",
    "\n"
   ]
  },
  {
   "cell_type": "code",
   "execution_count": 8,
   "id": "79c64cb9",
   "metadata": {},
   "outputs": [
    {
     "name": "stdout",
     "output_type": "stream",
     "text": [
      "       time_sec       sample event_type\n",
      "0          0.00  -105.980000       None\n",
      "1          0.01   129.440000       None\n",
      "2          0.02   -33.440000       None\n",
      "3          0.03   116.550000       None\n",
      "4          0.04  -125.850000       None\n",
      "...         ...          ...        ...\n",
      "18778    187.78 -1222.540000       None\n",
      "18779    187.79 -1108.520000       None\n",
      "18780    187.80  -457.560000       None\n",
      "18781    187.81  -466.170000       None\n",
      "18782    187.82    57.021053       None\n",
      "\n",
      "[18783 rows x 3 columns]\n"
     ]
    },
    {
     "data": {
      "image/png": "[encoded data removed]",
      "text/plain": [
       "<Figure size 432x288 with 1 Axes>"
      ]
     },
     "metadata": {
      "needs_background": "dark"
     },
     "output_type": "display_data"
    }
   ],
   "source": [
    "# Add target classification event to each sample\n",
    "\n",
    "sample_100_df = downsample(sample_df, n=100)\n",
    "sample_100_df[\"event_type\"] = None\n",
    "#print(sample_100_df)\n",
    "\n",
    "\n",
    "event_time_interval = 0.5 # The time interval around an event marker which should be classified as that event\n",
    "for idx,row in events_df_int.iterrows():\n",
    "    # Skip blinks for now\n",
    "    if row[\"event_type\"] not in [\"Left\", \"Right\"]:\n",
    "        continue\n",
    "\n",
    "    event_interval = (sample_100_df[\"time_sec\"] > (row[\"time_sec\"] - event_time_interval/2))\n",
    "    event_interval &= (sample_100_df[\"time_sec\"] < (row[\"time_sec\"] + event_time_interval/2))\n",
    "    \n",
    "    sample_100_df.loc[event_interval,\"event_type\"] = row[\"event_type\"]\n",
    "\n",
    "print(sample_100_df)\n",
    "\n",
    "\n",
    "\n",
    "time_start = 0\n",
    "time_end = 30\n",
    "\n",
    "sample_df_int = sample_100_df[(sample_100_df[\"time_sec\"] >= time_start) & (sample_100_df[\"time_sec\"] < time_end)]\n",
    "\n",
    "for name, group in sample_df_int.groupby(\"event_type\"):\n",
    "    plt.scatter(\n",
    "        group[\"time_sec\"],\n",
    "        group[\"sample\"],\n",
    "        color={\n",
    "            None: \"blue\",\n",
    "            \"Right\": \"green\",\n",
    "            \"Left\": \"red\"\n",
    "        }[name]\n",
    "    )\n",
    "\n",
    "plt.show()\n",
    "\n",
    "\n"
   ]
  },
  {
   "cell_type": "code",
   "execution_count": null,
   "id": "0147de4e",
   "metadata": {},
   "outputs": [],
   "source": []
  }
 ],
 "metadata": {
  "kernelspec": {
   "display_name": "Python 3 (ipykernel)",
   "language": "python",
   "name": "python3"
  },
  "language_info": {
   "codemirror_mode": {
    "name": "ipython",
    "version": 3
   },
   "file_extension": ".py",
   "mimetype": "text/x-python",
   "name": "python",
   "nbconvert_exporter": "python",
   "pygments_lexer": "ipython3",
   "version": "3.10.4"
  }
 },
 "nbformat": 4,
 "nbformat_minor": 5
}
